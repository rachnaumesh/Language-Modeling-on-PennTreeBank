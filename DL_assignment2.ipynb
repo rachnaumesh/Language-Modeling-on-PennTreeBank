{
  "nbformat": 4,
  "nbformat_minor": 0,
  "metadata": {
    "colab": {
      "provenance": [],
      "gpuType": "A100",
      "machine_shape": "hm"
    },
    "kernelspec": {
      "name": "python3",
      "display_name": "Python 3"
    },
    "language_info": {
      "name": "python"
    },
    "accelerator": "GPU"
  },
  "cells": [
    {
      "cell_type": "markdown",
      "source": [
        "#Importing Libraries"
      ],
      "metadata": {
        "id": "fXQtPvOt8vMK"
      }
    },
    {
      "cell_type": "code",
      "execution_count": 1,
      "metadata": {
        "id": "wQLuvy6L8ujR"
      },
      "outputs": [],
      "source": [
        "import torch\n",
        "import torch.nn as nn\n",
        "import torch.optim as optim\n",
        "from torch.utils.data import DataLoader\n",
        "\n",
        "import matplotlib.pyplot as plt\n",
        "import math\n",
        "import numpy as np\n",
        "import os\n",
        "from collections import Counter\n",
        "import tarfile\n",
        "import shutil\n",
        "import tempfile\n",
        "import urllib.request\n",
        "import math\n",
        "import random\n",
        "from tqdm import tqdm\n",
        "\n",
        "from torch.utils.data import Dataset, DataLoader\n",
        "\n",
        "device = torch.device('cuda' if torch.cuda.is_available() else 'cpu')"
      ]
    },
    {
      "cell_type": "code",
      "source": [
        "data_dir='data/'\n",
        "url = 'http://www.fit.vutbr.cz/~imikolov/rnnlm/simple-examples.tgz'\n",
        "filename = 'simple-examples.tgz'\n",
        "filepath = os.path.join(tempfile.gettempdir(), filename)\n",
        "\n",
        "if not os.path.exists(data_dir):\n",
        "    os.makedirs(data_dir)\n",
        "\n",
        "# Download the dataset\n",
        "if not os.path.exists(filepath):\n",
        "    print(\"Downloading PTB dataset...\")\n",
        "    urllib.request.urlretrieve(url, filepath)\n",
        "    print(\"Download complete.\")\n",
        "else:\n",
        "    print(\"PTB dataset already downloaded.\")\n",
        "\n",
        "# Extract the dataset\n",
        "extracted_path = os.path.join(tempfile.gettempdir(), 'simple-examples')\n",
        "if not os.path.exists(extracted_path):\n",
        "    print(\"Extracting PTB dataset...\")\n",
        "    with tarfile.open(filepath, 'r:gz') as tar:\n",
        "        tar.extractall(path=tempfile.gettempdir())\n",
        "    print(\"Extraction complete.\")\n",
        "else:\n",
        "    print(\"PTB dataset already extracted.\")\n",
        "\n",
        "# Move the necessary files to the data_dir\n",
        "for split in ['train', 'valid', 'test']:\n",
        "    src = os.path.join(extracted_path, 'data', f'ptb.{split}.txt')\n",
        "    dst = os.path.join(data_dir, f'ptb.{split}.txt')\n",
        "    if not os.path.exists(dst):\n",
        "        shutil.copy(src, dst)\n",
        "        print(f\"Copied {split} data to {dst}\")\n",
        "    else:\n",
        "        print(f\"{split} data already exists at {dst}\")"
      ],
      "metadata": {
        "colab": {
          "base_uri": "https://localhost:8080/"
        },
        "id": "CfkN-k6z1nzV",
        "outputId": "700834a0-d2f0-4613-c4d9-3cdcef58657b"
      },
      "execution_count": 2,
      "outputs": [
        {
          "output_type": "stream",
          "name": "stdout",
          "text": [
            "Downloading PTB dataset...\n",
            "Download complete.\n",
            "Extracting PTB dataset...\n",
            "Extraction complete.\n",
            "Copied train data to data/ptb.train.txt\n",
            "Copied valid data to data/ptb.valid.txt\n",
            "Copied test data to data/ptb.test.txt\n"
          ]
        }
      ]
    },
    {
      "cell_type": "markdown",
      "source": [
        "#Data Preprocessing"
      ],
      "metadata": {
        "id": "cLHlD3Pq83X9"
      }
    },
    {
      "cell_type": "code",
      "source": [
        "def preprocess_data(file_path):\n",
        "    tokens = []\n",
        "    with open(file_path, 'r') as file:\n",
        "        for line in file.readlines():\n",
        "            line_tokens = line.strip().split()\n",
        "            line_tokens.append('<eos>')\n",
        "            tokens.extend(line_tokens)\n",
        "    print(f\"Total tokens: {len(tokens)}\")\n",
        "    print(tokens[:10])\n",
        "    return tokens\n",
        "\n",
        "# Paths to Penn Tree Bank dataset files\n",
        "train_file_path = 'data/ptb.train.txt'\n",
        "valid_file_path = 'data/ptb.valid.txt'\n",
        "test_file_path = 'data/ptb.test.txt'\n",
        "\n",
        "train_tokens = preprocess_data(train_file_path)\n",
        "valid_tokens = preprocess_data(valid_file_path)\n",
        "test_tokens = preprocess_data(test_file_path)"
      ],
      "metadata": {
        "id": "2yxPHaKc80OA",
        "colab": {
          "base_uri": "https://localhost:8080/"
        },
        "outputId": "f281dc46-1117-4e53-969d-500b08f6195c"
      },
      "execution_count": 3,
      "outputs": [
        {
          "output_type": "stream",
          "name": "stdout",
          "text": [
            "Total tokens: 929589\n",
            "['aer', 'banknote', 'berlitz', 'calloway', 'centrust', 'cluett', 'fromstein', 'gitano', 'guterman', 'hydro-quebec']\n",
            "Total tokens: 73760\n",
            "['consumers', 'may', 'want', 'to', 'move', 'their', 'telephones', 'a', 'little', 'closer']\n",
            "Total tokens: 82430\n",
            "['no', 'it', 'was', \"n't\", 'black', 'monday', '<eos>', 'but', 'while', 'the']\n"
          ]
        }
      ]
    },
    {
      "cell_type": "code",
      "source": [
        "def build_vocab(token_list):\n",
        "    counter = Counter(token_list)\n",
        "    vocab = sorted(counter, key=counter.get, reverse=True)\n",
        "\n",
        "    word2idx = {word: idx for idx, word in enumerate(vocab)}\n",
        "    idx2word = {idx: word for word, idx in word2idx.items()}\n",
        "    vocab_size = len(word2idx)\n",
        "\n",
        "    # Check vocab size\n",
        "    print(f\"Vocabulary built. Total words: {vocab_size}\")\n",
        "    return word2idx, idx2word, vocab_size\n",
        "\n",
        "\n",
        "def encode_tokens(tokens, word2idx):\n",
        "    encoded_tokens = [word2idx.get(token, word2idx[\"<unk>\"]) for token in tokens]\n",
        "    return encoded_tokens\n",
        "\n",
        "word2idx, idx2word, vocab_size = build_vocab(train_tokens)\n",
        "\n",
        "train_data = encode_tokens(train_tokens, word2idx)\n",
        "valid_data = encode_tokens(valid_tokens, word2idx)\n",
        "test_data = encode_tokens(test_tokens, word2idx)\n",
        "\n",
        "print(train_data[:10])\n",
        "print(valid_data[:10])\n",
        "print(test_data[:10])"
      ],
      "metadata": {
        "colab": {
          "base_uri": "https://localhost:8080/"
        },
        "id": "2g7iqwOT6Q9Z",
        "outputId": "e6c4844a-a118-452c-c53f-d5a26b60b92f"
      },
      "execution_count": 4,
      "outputs": [
        {
          "output_type": "stream",
          "name": "stdout",
          "text": [
            "Vocabulary built. Total words: 10000\n",
            "[9970, 9971, 9972, 9973, 9974, 9975, 9976, 9977, 9978, 9979]\n",
            "[1134, 93, 358, 5, 329, 51, 9586, 6, 326, 2484]\n",
            "[102, 14, 24, 32, 753, 381, 2, 29, 120, 0]\n"
          ]
        }
      ]
    },
    {
      "cell_type": "code",
      "source": [
        "print(\"Max index in train_data:\", max(train_data))\n",
        "print(\"Max index in valid_data:\", max(valid_data))\n",
        "print(\"Max index in test_data:\", max(test_data))\n",
        "print(\"Vocab size:\", vocab_size)"
      ],
      "metadata": {
        "colab": {
          "base_uri": "https://localhost:8080/"
        },
        "id": "LjjSq9B2NKY7",
        "outputId": "71ed5dbd-3b78-48d4-b447-43e00ccef6b5"
      },
      "execution_count": 5,
      "outputs": [
        {
          "output_type": "stream",
          "name": "stdout",
          "text": [
            "Max index in train_data: 9999\n",
            "Max index in valid_data: 9999\n",
            "Max index in test_data: 9974\n",
            "Vocab size: 10000\n"
          ]
        }
      ]
    },
    {
      "cell_type": "code",
      "source": [
        "def batchify(data, batch_size):\n",
        "    nbatch = len(data) // batch_size\n",
        "    data = data[:nbatch * batch_size]\n",
        "    data = torch.tensor(data, dtype=torch.long).to(device)\n",
        "    data = data.view(batch_size, -1)\n",
        "    return data\n",
        "\n",
        "batch_size = 20\n",
        "train_data = batchify(train_data, batch_size)\n",
        "valid_data = batchify(valid_data, batch_size)\n",
        "test_data = batchify(test_data, batch_size)\n",
        "\n",
        "print(train_data.shape)\n",
        "print(valid_data.shape)\n",
        "print(test_data.shape)"
      ],
      "metadata": {
        "colab": {
          "base_uri": "https://localhost:8080/"
        },
        "id": "AZ0x_21T8Uig",
        "outputId": "2e4cc1ed-5101-4072-8e05-d0b9a4f89dc1"
      },
      "execution_count": 6,
      "outputs": [
        {
          "output_type": "stream",
          "name": "stdout",
          "text": [
            "torch.Size([20, 46479])\n",
            "torch.Size([20, 3688])\n",
            "torch.Size([20, 4121])\n"
          ]
        }
      ]
    },
    {
      "cell_type": "markdown",
      "source": [
        "#Model Architecture"
      ],
      "metadata": {
        "id": "3FxdD2Ty8-18"
      }
    },
    {
      "cell_type": "code",
      "source": [
        "class LSTMModel(nn.Module):\n",
        "    def __init__(self, vocab_size, embed_size=200, hidden_size=200, num_layers=2, dropout=0.0):\n",
        "        super(LSTMModel, self).__init__()\n",
        "        self.encoder = nn.Embedding(vocab_size, embed_size)\n",
        "        self.dropout = nn.Dropout(dropout)\n",
        "        self.hidden_size = hidden_size\n",
        "        self.num_layers = num_layers\n",
        "        self.lstm = nn.LSTM(embed_size, hidden_size, num_layers, dropout=dropout)\n",
        "        self.decoder = nn.Linear(hidden_size, vocab_size)\n",
        "        self.init_weights()\n",
        "\n",
        "    def init_weights(self):\n",
        "        initrange = 0.1\n",
        "        self.encoder.weight.data.uniform_(-initrange, initrange)\n",
        "        self.decoder.weight.data.uniform_(-initrange, initrange)\n",
        "        self.decoder.bias.data.zero_()\n",
        "\n",
        "    def forward(self, input, hidden):\n",
        "        assert (input >= 0).all() and (input < vocab_size).all(), \"Input indices out of bounds!\"\n",
        "        emb = self.dropout(self.encoder(input))\n",
        "        output, hidden = self.lstm(emb, hidden)\n",
        "        output = self.dropout(output)\n",
        "        decoded = self.decoder(output.view(output.size(0) * output.size(1), output.size(2)))\n",
        "        return decoded.view(output.size(0), output.size(1), decoded.size(1)), hidden\n",
        "\n",
        "    def init_hidden(self, batch_size):\n",
        "        weight = next(self.parameters())\n",
        "        return (weight.new_zeros(self.num_layers, batch_size, self.hidden_size),\n",
        "                weight.new_zeros(self.num_layers, batch_size, self.hidden_size))\n",
        "\n",
        "\n",
        "\n",
        "class GRUModel(nn.Module):\n",
        "    def __init__(self, vocab_size, embed_size, hidden_size, num_layers=2, dropout=0.0):\n",
        "        super(GRUModel, self).__init__()\n",
        "        self.encoder = nn.Embedding(vocab_size, embed_size)\n",
        "        self.dropout = nn.Dropout(dropout)\n",
        "        self.hidden_size = hidden_size\n",
        "        self.num_layers = num_layers\n",
        "        self.gru = nn.GRU(embed_size, hidden_size, num_layers, dropout=dropout)\n",
        "        self.decoder = nn.Linear(hidden_size, vocab_size)\n",
        "        self.init_weights()\n",
        "\n",
        "    def init_weights(self):\n",
        "        initrange = 0.1\n",
        "        self.encoder.weight.data.uniform_(-initrange, initrange)\n",
        "        self.decoder.weight.data.uniform_(-initrange, initrange)\n",
        "        self.decoder.bias.data.zero_()\n",
        "\n",
        "    def forward(self, input, hidden):\n",
        "        assert (input >= 0).all() and (input < vocab_size).all(), \"Input indices out of bounds!\"\n",
        "        emb = self.dropout(self.encoder(input))\n",
        "        output, hidden = self.gru(emb, hidden)\n",
        "        output = self.dropout(output)\n",
        "        decoded = self.decoder(output.view(output.size(0) * output.size(1), output.size(2)))\n",
        "        return decoded.view(output.size(0), output.size(1), decoded.size(1)), hidden\n",
        "\n",
        "    def init_hidden(self, batch_size):\n",
        "        weight = next(self.parameters())\n",
        "        return weight.new_zeros(self.num_layers, batch_size, self.hidden_size)"
      ],
      "metadata": {
        "id": "Ecrl8pep-Mwl"
      },
      "execution_count": 7,
      "outputs": []
    },
    {
      "cell_type": "markdown",
      "source": [
        "#Training and Evaluation Loops"
      ],
      "metadata": {
        "id": "DgMONZhV9FA1"
      }
    },
    {
      "cell_type": "code",
      "source": [
        "seq_len = 20  # Set sequence length to 32\n",
        "batch_size = 20"
      ],
      "metadata": {
        "id": "PdjLHjgEHcW1"
      },
      "execution_count": 8,
      "outputs": []
    },
    {
      "cell_type": "code",
      "source": [
        "def repackage_hidden(h):\n",
        "    if isinstance(h, torch.Tensor):\n",
        "        return h.detach()\n",
        "    else:\n",
        "        return tuple(repackage_hidden(v) for v in h)\n",
        "\n",
        "def get_batch(source, i, seq_len, batch_size):\n",
        "    data = [source[j, i * seq_len:(i + 1) * seq_len] for j in range(batch_size)]\n",
        "    data = torch.stack(data, dim=1)  # Shape: [seq_len, batch_size]\n",
        "    target = [source[j, i * seq_len + 1:(i + 1) * seq_len + 1] for j in range(batch_size)]\n",
        "    target = torch.stack(target, dim=1)  # Shape: [seq_len, batch_size]\n",
        "    return data, target"
      ],
      "metadata": {
        "id": "_e93-qW__zAR"
      },
      "execution_count": 9,
      "outputs": []
    },
    {
      "cell_type": "code",
      "source": [
        "def train_epoch(model, train_dataset, optimizer, loss_fn, batch_size, seq_len, device):\n",
        "    print(\"entered training loop\")\n",
        "    model.train()\n",
        "    total_loss = 0\n",
        "    hidden = model.init_hidden(batch_size)  # Initialize hidden state\n",
        "\n",
        "    # Calculate the number of batches\n",
        "    num_batches = train_dataset.size(1) // seq_len\n",
        "    print(f\"Number of batches: {num_batches}\")\n",
        "\n",
        "    for i in tqdm(range(num_batches), total=num_batches, desc=\"Training\"):\n",
        "        inputs, targets = get_batch(train_dataset, i, seq_len, batch_size=batch_size)\n",
        "        inputs, targets = inputs.to(device), targets.to(device)\n",
        "        hidden = repackage_hidden(hidden)\n",
        "        optimizer.zero_grad()\n",
        "\n",
        "        # Forward pass\n",
        "        outputs, hidden = model(inputs, hidden)\n",
        "        assert outputs.size(2) == vocab_size, \"Output dimensions do not match vocab size\"\n",
        "\n",
        "        # Reshape outputs to (batch_size * seq_len, vocab_size) for loss calculation\n",
        "        loss = loss_fn(outputs.view(-1, vocab_size), targets.view(-1))\n",
        "        loss.backward()\n",
        "        torch.nn.utils.clip_grad_norm_(model.parameters(), max_norm=0.5)  # Gradient clipping\n",
        "        optimizer.step()\n",
        "\n",
        "        total_loss += loss.item()\n",
        "\n",
        "    avg_loss = total_loss / num_batches\n",
        "    perplexity = calculate_perplexity(avg_loss)\n",
        "    return avg_loss, perplexity\n",
        "\n",
        "\n",
        "def evaluate(model, data, loss_fn, batch_size, seq_len, device):\n",
        "    model.eval()\n",
        "    total_loss = 0\n",
        "    hidden = model.init_hidden(batch_size)  # Initialize hidden state\n",
        "\n",
        "    # Calculate the number of batches\n",
        "    num_batches = data.size(1) // seq_len\n",
        "\n",
        "    with torch.no_grad():\n",
        "        for i in tqdm(range(num_batches), total=num_batches, desc=\"Evaluating\"):\n",
        "            inputs, targets = get_batch(data, i, seq_len, batch_size=batch_size)\n",
        "            inputs, targets = inputs.to(device), targets.to(device)\n",
        "            hidden = repackage_hidden(hidden)\n",
        "\n",
        "            # Forward pass\n",
        "            outputs, hidden = model(inputs, hidden)  # Shape: (batch_size, seq_len, vocab_size)\n",
        "            assert outputs.size(2) == vocab_size, \"Output dimensions do not match vocab size\"\n",
        "\n",
        "            # Reshape outputs to (batch_size * seq_len, vocab_size) for loss calculation\n",
        "            loss = loss_fn(outputs.view(-1, vocab_size), targets.view(-1))\n",
        "            total_loss += loss.item()\n",
        "\n",
        "    avg_loss = total_loss / num_batches\n",
        "    perplexity = calculate_perplexity(avg_loss)\n",
        "    return avg_loss, perplexity"
      ],
      "metadata": {
        "id": "C3a6yMtgCTHL"
      },
      "execution_count": 10,
      "outputs": []
    },
    {
      "cell_type": "code",
      "source": [
        "def calculate_perplexity(loss):\n",
        "    \"\"\"\n",
        "    Calculates perplexity from loss.\n",
        "    \"\"\"\n",
        "    return math.exp(loss)\n",
        "\n",
        "def plot_perplexity(train_ppls, valid_ppls, title, save_path):\n",
        "    \"\"\"\n",
        "    Plots training and validation perplexity over epochs.\n",
        "    \"\"\"\n",
        "    epochs = range(1, len(train_ppls) + 1)\n",
        "    plt.figure(figsize=(10,6))\n",
        "    plt.plot(epochs, train_ppls, 'b-', label='Training Perplexity')\n",
        "    plt.plot(epochs, valid_ppls, 'r-', label='Test Perplexity')\n",
        "    plt.title(title)\n",
        "    plt.xlabel('Epochs')\n",
        "    plt.ylabel('Perplexity')\n",
        "    plt.legend()\n",
        "    plt.grid(True)\n",
        "    plt.savefig(save_path)\n",
        "    plt.show()"
      ],
      "metadata": {
        "id": "LqyQAm36JI7j"
      },
      "execution_count": 11,
      "outputs": []
    },
    {
      "cell_type": "code",
      "source": [
        "def run_experiments():\n",
        "    \"\"\"\n",
        "    Runs the four experimental settings and summarizes the results.\n",
        "    \"\"\"\n",
        "    # Define experimental settings\n",
        "    experiments = [\n",
        "        {\n",
        "            'model_type': 'lstm',\n",
        "            'dropout': 0.0,\n",
        "            'lr': 1.6,    # Initial learning rate for SGD\n",
        "            'epochs': 13,\n",
        "            'save_path': 'checkpoints/lstm_no_dropout',\n",
        "            'plot_path': 'plots/lstm_no_dropout_perplexity.png'\n",
        "        },\n",
        "        {\n",
        "            'model_type': 'lstm',\n",
        "            'dropout': 0.5,\n",
        "            'lr': 3.4,    # Initial learning rate for SGD\n",
        "            'epochs': 20,\n",
        "            'save_path': 'checkpoints/lstm_with_dropout',\n",
        "            'plot_path': 'plots/lstm_with_dropout_perplexity.png'\n",
        "        },\n",
        "        {\n",
        "            'model_type': 'gru',\n",
        "            'dropout': 0.0,\n",
        "            'lr': 1.5,    # Initial learning rate for SGD\n",
        "            'epochs': 13,\n",
        "            'save_path': 'checkpoints/gru_no_dropout',\n",
        "            'plot_path': 'plots/gru_no_dropout_perplexity.png'\n",
        "        },\n",
        "        {\n",
        "            'model_type': 'gru',\n",
        "            'dropout': 0.3,\n",
        "            'lr': 1.8,    # Initial learning rate for SGD\n",
        "            'epochs': 20,\n",
        "            'save_path': 'checkpoints/gru_with_dropout',\n",
        "            'plot_path': 'plots/gru_with_dropout_perplexity.png'\n",
        "        }\n",
        "    ]\n",
        "\n",
        "    # Device configuration\n",
        "    device = torch.device('cuda' if torch.cuda.is_available() else 'cpu')\n",
        "    print(f'\\nUsing device: {device}\\n')\n",
        "\n",
        "    # Initialize a list to store results\n",
        "    results = []\n",
        "\n",
        "    os.makedirs('checkpoints', exist_ok=True)\n",
        "    os.makedirs('plots', exist_ok=True)\n",
        "\n",
        "    for exp in experiments:\n",
        "\n",
        "        os.makedirs(os.path.dirname(exp['save_path']), exist_ok=True)\n",
        "        os.makedirs(os.path.dirname(exp['plot_path']), exist_ok=True)\n",
        "\n",
        "        print(f\"\\n--- Starting Experiment: {exp['model_type'].upper()} with Dropout={exp['dropout']} ---\")\n",
        "\n",
        "        # Initialize model based on the experiment\n",
        "        if exp['model_type'] == 'lstm':\n",
        "            model = LSTMModel(vocab_size, embed_size=200, hidden_size=200, num_layers=2, dropout=exp['dropout']).to(device)\n",
        "        elif exp['model_type'] == 'gru':\n",
        "            model = GRUModel(vocab_size, embed_size=200, hidden_size=200, num_layers=2, dropout=exp['dropout']).to(device)\n",
        "        else:\n",
        "            raise ValueError(\"Model type must be 'lstm' or 'gru'\")\n",
        "\n",
        "        # Define loss function and optimizer\n",
        "        criterion = nn.CrossEntropyLoss()\n",
        "        optimizer = optim.SGD(model.parameters(), lr=exp['lr'])  # Using SGD optimizer\n",
        "\n",
        "        # Define a lambda function to adjust the learning rate\n",
        "        if exp['dropout'] == 0.0:\n",
        "            lambda_lr = lambda epoch: exp['lr'] if epoch < 7 else exp['lr'] * (0.5 ** (epoch - 6))\n",
        "        else:\n",
        "            lambda_lr = lambda epoch: exp['lr'] if epoch < 8 else exp['lr'] * (0.75 ** (epoch - 7))\n",
        "        scheduler = torch.optim.lr_scheduler.LambdaLR(optimizer, lr_lambda=lambda_lr)\n",
        "\n",
        "        # Lists to store perplexities per epoch\n",
        "        train_ppls, valid_ppls, test_ppls = [], [], []\n",
        "        best_valid_ppl = float('inf')\n",
        "\n",
        "        # Training and validation loop\n",
        "        for epoch in range(exp['epochs']):\n",
        "            print(f'\\nEpoch {epoch + 1}/{exp[\"epochs\"]}')\n",
        "\n",
        "            # Train the model for one epoch\n",
        "            train_loss, train_ppl = train_epoch(\n",
        "                model=model,\n",
        "                train_dataset=train_data,\n",
        "                optimizer=optimizer,\n",
        "                loss_fn=criterion,\n",
        "                batch_size=batch_size,\n",
        "                seq_len=seq_len,\n",
        "                device=device\n",
        "            )\n",
        "            train_ppls.append(train_ppl)\n",
        "            print(f'Train Perplexity: {train_ppl:.2f}')\n",
        "\n",
        "            # Evaluate on validation set\n",
        "            valid_loss, valid_ppl = evaluate(\n",
        "                model=model,\n",
        "                data=valid_data,\n",
        "                loss_fn=criterion,\n",
        "                batch_size=batch_size,\n",
        "                seq_len=seq_len,\n",
        "                device=device\n",
        "            )\n",
        "            valid_ppls.append(valid_ppl)\n",
        "            print(f'Validation Perplexity: {valid_ppl:.2f}')\n",
        "\n",
        "            # Test the model on the test set\n",
        "            test_loss, test_ppl = evaluate(\n",
        "                model=model,\n",
        "                data=test_data,\n",
        "                loss_fn=criterion,\n",
        "                batch_size=batch_size,\n",
        "                seq_len=seq_len,\n",
        "                device=device\n",
        "            )\n",
        "            test_ppls.append(test_ppl)\n",
        "            print(f'Test Perplexity: {test_ppl:.2f}')\n",
        "\n",
        "            # Save the model if validation perplexity improves\n",
        "            if valid_ppl < best_valid_ppl:\n",
        "                best_valid_ppl = valid_ppl\n",
        "                torch.save(model.state_dict(), exp['save_path'])\n",
        "                print(f'Best model saved to {exp[\"save_path\"]}')\n",
        "\n",
        "            # Adjust learning rate using the scheduler\n",
        "            if scheduler:\n",
        "                scheduler.step()\n",
        "\n",
        "        # Plot perplexities for this experiment\n",
        "        plot_title = f\"{exp['model_type'].upper()} with Dropout={exp['dropout']}\"\n",
        "        plot_path = exp['plot_path']\n",
        "        plot_perplexity(train_ppls, test_ppls, plot_title, plot_path)\n",
        "\n",
        "        # Store the results\n",
        "        results.append({\n",
        "            'Model': exp['model_type'].upper(),\n",
        "            'Dropout': exp['dropout'],\n",
        "            'Train Perplexity': min(train_ppls),\n",
        "            'Validation Perplexity': min(valid_ppls),\n",
        "            'Test Perplexity': min(test_ppls)\n",
        "        })\n",
        "\n",
        "    # Display Results Summary\n",
        "    print(\"\\n=== Results Summary ===\")\n",
        "    print(\"| Model | Dropout Probability | Train Perplexity | Validation Perplexity | Test Perplexity |\")\n",
        "    print(\"|-------|---------------------|------------------|-----------------------|-----------------|\")\n",
        "    for res in results:\n",
        "        print(f\"| {res['Model']} | {res['Dropout']} | {res['Train Perplexity']:.2f} | {res['Validation Perplexity']:.2f} | {res['Test Perplexity']:.2f} |\")"
      ],
      "metadata": {
        "id": "djqUeUbsEST8"
      },
      "execution_count": 13,
      "outputs": []
    },
    {
      "cell_type": "markdown",
      "source": [
        "#Running Experiments"
      ],
      "metadata": {
        "id": "iDtT5sC49Kjz"
      }
    },
    {
      "cell_type": "code",
      "source": [
        "if __name__ == \"__main__\":\n",
        "    run_experiments()"
      ],
      "metadata": {
        "colab": {
          "base_uri": "https://localhost:8080/",
          "height": 1000
        },
        "id": "HC2c3kzMFwIa",
        "outputId": "a19cc28b-99cf-4abe-8085-3eb664a48cfd"
      },
      "execution_count": 14,
      "outputs": [
        {
          "output_type": "stream",
          "name": "stdout",
          "text": [
            "\n",
            "Using device: cuda\n",
            "\n",
            "\n",
            "--- Starting Experiment: LSTM with Dropout=0.0 ---\n",
            "\n",
            "Epoch 1/13\n",
            "entered training loop\n",
            "Number of batches: 2323\n"
          ]
        },
        {
          "output_type": "stream",
          "name": "stderr",
          "text": [
            "Training: 100%|██████████| 2323/2323 [00:10<00:00, 220.50it/s]\n"
          ]
        },
        {
          "output_type": "stream",
          "name": "stdout",
          "text": [
            "Train Perplexity: 521.11\n"
          ]
        },
        {
          "output_type": "stream",
          "name": "stderr",
          "text": [
            "Evaluating: 100%|██████████| 184/184 [00:00<00:00, 721.59it/s]\n"
          ]
        },
        {
          "output_type": "stream",
          "name": "stdout",
          "text": [
            "Validation Perplexity: 331.66\n"
          ]
        },
        {
          "output_type": "stream",
          "name": "stderr",
          "text": [
            "Evaluating: 100%|██████████| 206/206 [00:00<00:00, 723.42it/s]\n"
          ]
        },
        {
          "output_type": "stream",
          "name": "stdout",
          "text": [
            "Test Perplexity: 322.80\n",
            "Best model saved to checkpoints/lstm_no_dropout\n",
            "\n",
            "Epoch 2/13\n",
            "entered training loop\n",
            "Number of batches: 2323\n"
          ]
        },
        {
          "output_type": "stream",
          "name": "stderr",
          "text": [
            "Training: 100%|██████████| 2323/2323 [00:09<00:00, 251.83it/s]\n"
          ]
        },
        {
          "output_type": "stream",
          "name": "stdout",
          "text": [
            "Train Perplexity: 245.19\n"
          ]
        },
        {
          "output_type": "stream",
          "name": "stderr",
          "text": [
            "Evaluating: 100%|██████████| 184/184 [00:00<00:00, 708.71it/s]\n"
          ]
        },
        {
          "output_type": "stream",
          "name": "stdout",
          "text": [
            "Validation Perplexity: 219.53\n"
          ]
        },
        {
          "output_type": "stream",
          "name": "stderr",
          "text": [
            "Evaluating: 100%|██████████| 206/206 [00:00<00:00, 712.64it/s]\n"
          ]
        },
        {
          "output_type": "stream",
          "name": "stdout",
          "text": [
            "Test Perplexity: 214.12\n",
            "Best model saved to checkpoints/lstm_no_dropout\n",
            "\n",
            "Epoch 3/13\n",
            "entered training loop\n",
            "Number of batches: 2323\n"
          ]
        },
        {
          "output_type": "stream",
          "name": "stderr",
          "text": [
            "Training: 100%|██████████| 2323/2323 [00:09<00:00, 252.10it/s]\n"
          ]
        },
        {
          "output_type": "stream",
          "name": "stdout",
          "text": [
            "Train Perplexity: 175.95\n"
          ]
        },
        {
          "output_type": "stream",
          "name": "stderr",
          "text": [
            "Evaluating: 100%|██████████| 184/184 [00:00<00:00, 726.39it/s]\n"
          ]
        },
        {
          "output_type": "stream",
          "name": "stdout",
          "text": [
            "Validation Perplexity: 184.11\n"
          ]
        },
        {
          "output_type": "stream",
          "name": "stderr",
          "text": [
            "Evaluating: 100%|██████████| 206/206 [00:00<00:00, 721.68it/s]\n"
          ]
        },
        {
          "output_type": "stream",
          "name": "stdout",
          "text": [
            "Test Perplexity: 180.01\n",
            "Best model saved to checkpoints/lstm_no_dropout\n",
            "\n",
            "Epoch 4/13\n",
            "entered training loop\n",
            "Number of batches: 2323\n"
          ]
        },
        {
          "output_type": "stream",
          "name": "stderr",
          "text": [
            "Training: 100%|██████████| 2323/2323 [00:09<00:00, 252.18it/s]\n"
          ]
        },
        {
          "output_type": "stream",
          "name": "stdout",
          "text": [
            "Train Perplexity: 142.67\n"
          ]
        },
        {
          "output_type": "stream",
          "name": "stderr",
          "text": [
            "Evaluating: 100%|██████████| 184/184 [00:00<00:00, 703.96it/s]\n"
          ]
        },
        {
          "output_type": "stream",
          "name": "stdout",
          "text": [
            "Validation Perplexity: 161.37\n"
          ]
        },
        {
          "output_type": "stream",
          "name": "stderr",
          "text": [
            "Evaluating: 100%|██████████| 206/206 [00:00<00:00, 706.32it/s]\n"
          ]
        },
        {
          "output_type": "stream",
          "name": "stdout",
          "text": [
            "Test Perplexity: 158.30\n",
            "Best model saved to checkpoints/lstm_no_dropout\n",
            "\n",
            "Epoch 5/13\n",
            "entered training loop\n",
            "Number of batches: 2323\n"
          ]
        },
        {
          "output_type": "stream",
          "name": "stderr",
          "text": [
            "Training: 100%|██████████| 2323/2323 [00:09<00:00, 254.92it/s]\n"
          ]
        },
        {
          "output_type": "stream",
          "name": "stdout",
          "text": [
            "Train Perplexity: 121.89\n"
          ]
        },
        {
          "output_type": "stream",
          "name": "stderr",
          "text": [
            "Evaluating: 100%|██████████| 184/184 [00:00<00:00, 727.25it/s]\n"
          ]
        },
        {
          "output_type": "stream",
          "name": "stdout",
          "text": [
            "Validation Perplexity: 148.26\n"
          ]
        },
        {
          "output_type": "stream",
          "name": "stderr",
          "text": [
            "Evaluating: 100%|██████████| 206/206 [00:00<00:00, 718.17it/s]\n"
          ]
        },
        {
          "output_type": "stream",
          "name": "stdout",
          "text": [
            "Test Perplexity: 145.84\n",
            "Best model saved to checkpoints/lstm_no_dropout\n",
            "\n",
            "Epoch 6/13\n",
            "entered training loop\n",
            "Number of batches: 2323\n"
          ]
        },
        {
          "output_type": "stream",
          "name": "stderr",
          "text": [
            "Training: 100%|██████████| 2323/2323 [00:09<00:00, 252.12it/s]\n"
          ]
        },
        {
          "output_type": "stream",
          "name": "stdout",
          "text": [
            "Train Perplexity: 107.21\n"
          ]
        },
        {
          "output_type": "stream",
          "name": "stderr",
          "text": [
            "Evaluating: 100%|██████████| 184/184 [00:00<00:00, 725.50it/s]\n"
          ]
        },
        {
          "output_type": "stream",
          "name": "stdout",
          "text": [
            "Validation Perplexity: 141.52\n"
          ]
        },
        {
          "output_type": "stream",
          "name": "stderr",
          "text": [
            "Evaluating: 100%|██████████| 206/206 [00:00<00:00, 718.88it/s]\n"
          ]
        },
        {
          "output_type": "stream",
          "name": "stdout",
          "text": [
            "Test Perplexity: 139.28\n",
            "Best model saved to checkpoints/lstm_no_dropout\n",
            "\n",
            "Epoch 7/13\n",
            "entered training loop\n",
            "Number of batches: 2323\n"
          ]
        },
        {
          "output_type": "stream",
          "name": "stderr",
          "text": [
            "Training: 100%|██████████| 2323/2323 [00:09<00:00, 251.77it/s]\n"
          ]
        },
        {
          "output_type": "stream",
          "name": "stdout",
          "text": [
            "Train Perplexity: 96.18\n"
          ]
        },
        {
          "output_type": "stream",
          "name": "stderr",
          "text": [
            "Evaluating: 100%|██████████| 184/184 [00:00<00:00, 722.83it/s]\n"
          ]
        },
        {
          "output_type": "stream",
          "name": "stdout",
          "text": [
            "Validation Perplexity: 137.19\n"
          ]
        },
        {
          "output_type": "stream",
          "name": "stderr",
          "text": [
            "Evaluating: 100%|██████████| 206/206 [00:00<00:00, 719.53it/s]\n"
          ]
        },
        {
          "output_type": "stream",
          "name": "stdout",
          "text": [
            "Test Perplexity: 134.67\n",
            "Best model saved to checkpoints/lstm_no_dropout\n",
            "\n",
            "Epoch 8/13\n",
            "entered training loop\n",
            "Number of batches: 2323\n"
          ]
        },
        {
          "output_type": "stream",
          "name": "stderr",
          "text": [
            "Training: 100%|██████████| 2323/2323 [00:09<00:00, 253.44it/s]\n"
          ]
        },
        {
          "output_type": "stream",
          "name": "stdout",
          "text": [
            "Train Perplexity: 82.86\n"
          ]
        },
        {
          "output_type": "stream",
          "name": "stderr",
          "text": [
            "Evaluating: 100%|██████████| 184/184 [00:00<00:00, 719.73it/s]\n"
          ]
        },
        {
          "output_type": "stream",
          "name": "stdout",
          "text": [
            "Validation Perplexity: 129.77\n"
          ]
        },
        {
          "output_type": "stream",
          "name": "stderr",
          "text": [
            "Evaluating: 100%|██████████| 206/206 [00:00<00:00, 722.37it/s]\n"
          ]
        },
        {
          "output_type": "stream",
          "name": "stdout",
          "text": [
            "Test Perplexity: 126.90\n",
            "Best model saved to checkpoints/lstm_no_dropout\n",
            "\n",
            "Epoch 9/13\n",
            "entered training loop\n",
            "Number of batches: 2323\n"
          ]
        },
        {
          "output_type": "stream",
          "name": "stderr",
          "text": [
            "Training: 100%|██████████| 2323/2323 [00:09<00:00, 252.42it/s]\n"
          ]
        },
        {
          "output_type": "stream",
          "name": "stdout",
          "text": [
            "Train Perplexity: 75.84\n"
          ]
        },
        {
          "output_type": "stream",
          "name": "stderr",
          "text": [
            "Evaluating: 100%|██████████| 184/184 [00:00<00:00, 720.81it/s]\n"
          ]
        },
        {
          "output_type": "stream",
          "name": "stdout",
          "text": [
            "Validation Perplexity: 126.29\n"
          ]
        },
        {
          "output_type": "stream",
          "name": "stderr",
          "text": [
            "Evaluating: 100%|██████████| 206/206 [00:00<00:00, 694.47it/s]\n"
          ]
        },
        {
          "output_type": "stream",
          "name": "stdout",
          "text": [
            "Test Perplexity: 123.30\n",
            "Best model saved to checkpoints/lstm_no_dropout\n",
            "\n",
            "Epoch 10/13\n",
            "entered training loop\n",
            "Number of batches: 2323\n"
          ]
        },
        {
          "output_type": "stream",
          "name": "stderr",
          "text": [
            "Training: 100%|██████████| 2323/2323 [00:09<00:00, 250.94it/s]\n"
          ]
        },
        {
          "output_type": "stream",
          "name": "stdout",
          "text": [
            "Train Perplexity: 72.41\n"
          ]
        },
        {
          "output_type": "stream",
          "name": "stderr",
          "text": [
            "Evaluating: 100%|██████████| 184/184 [00:00<00:00, 720.53it/s]\n"
          ]
        },
        {
          "output_type": "stream",
          "name": "stdout",
          "text": [
            "Validation Perplexity: 124.36\n"
          ]
        },
        {
          "output_type": "stream",
          "name": "stderr",
          "text": [
            "Evaluating: 100%|██████████| 206/206 [00:00<00:00, 722.40it/s]\n"
          ]
        },
        {
          "output_type": "stream",
          "name": "stdout",
          "text": [
            "Test Perplexity: 121.38\n",
            "Best model saved to checkpoints/lstm_no_dropout\n",
            "\n",
            "Epoch 11/13\n",
            "entered training loop\n",
            "Number of batches: 2323\n"
          ]
        },
        {
          "output_type": "stream",
          "name": "stderr",
          "text": [
            "Training: 100%|██████████| 2323/2323 [00:09<00:00, 252.04it/s]\n"
          ]
        },
        {
          "output_type": "stream",
          "name": "stdout",
          "text": [
            "Train Perplexity: 70.71\n"
          ]
        },
        {
          "output_type": "stream",
          "name": "stderr",
          "text": [
            "Evaluating: 100%|██████████| 184/184 [00:00<00:00, 723.12it/s]\n"
          ]
        },
        {
          "output_type": "stream",
          "name": "stdout",
          "text": [
            "Validation Perplexity: 123.21\n"
          ]
        },
        {
          "output_type": "stream",
          "name": "stderr",
          "text": [
            "Evaluating: 100%|██████████| 206/206 [00:00<00:00, 721.13it/s]\n"
          ]
        },
        {
          "output_type": "stream",
          "name": "stdout",
          "text": [
            "Test Perplexity: 120.15\n",
            "Best model saved to checkpoints/lstm_no_dropout\n",
            "\n",
            "Epoch 12/13\n",
            "entered training loop\n",
            "Number of batches: 2323\n"
          ]
        },
        {
          "output_type": "stream",
          "name": "stderr",
          "text": [
            "Training: 100%|██████████| 2323/2323 [00:09<00:00, 253.66it/s]\n"
          ]
        },
        {
          "output_type": "stream",
          "name": "stdout",
          "text": [
            "Train Perplexity: 69.85\n"
          ]
        },
        {
          "output_type": "stream",
          "name": "stderr",
          "text": [
            "Evaluating: 100%|██████████| 184/184 [00:00<00:00, 712.19it/s]\n"
          ]
        },
        {
          "output_type": "stream",
          "name": "stdout",
          "text": [
            "Validation Perplexity: 122.46\n"
          ]
        },
        {
          "output_type": "stream",
          "name": "stderr",
          "text": [
            "Evaluating: 100%|██████████| 206/206 [00:00<00:00, 717.12it/s]\n"
          ]
        },
        {
          "output_type": "stream",
          "name": "stdout",
          "text": [
            "Test Perplexity: 119.26\n",
            "Best model saved to checkpoints/lstm_no_dropout\n",
            "\n",
            "Epoch 13/13\n",
            "entered training loop\n",
            "Number of batches: 2323\n"
          ]
        },
        {
          "output_type": "stream",
          "name": "stderr",
          "text": [
            "Training: 100%|██████████| 2323/2323 [00:09<00:00, 251.60it/s]\n"
          ]
        },
        {
          "output_type": "stream",
          "name": "stdout",
          "text": [
            "Train Perplexity: 69.39\n"
          ]
        },
        {
          "output_type": "stream",
          "name": "stderr",
          "text": [
            "Evaluating: 100%|██████████| 184/184 [00:00<00:00, 712.20it/s]\n"
          ]
        },
        {
          "output_type": "stream",
          "name": "stdout",
          "text": [
            "Validation Perplexity: 122.04\n"
          ]
        },
        {
          "output_type": "stream",
          "name": "stderr",
          "text": [
            "Evaluating: 100%|██████████| 206/206 [00:00<00:00, 716.03it/s]\n"
          ]
        },
        {
          "output_type": "stream",
          "name": "stdout",
          "text": [
            "Test Perplexity: 118.74\n",
            "Best model saved to checkpoints/lstm_no_dropout\n"
          ]
        },
        {
          "output_type": "display_data",
          "data": {
            "text/plain": [
              "<Figure size 1000x600 with 1 Axes>"
            ],
            "image/png": "[encoded data removed]"
          },
          "metadata": {}
        },
        {
          "output_type": "stream",
          "name": "stdout",
          "text": [
            "\n",
            "--- Starting Experiment: LSTM with Dropout=0.5 ---\n",
            "\n",
            "Epoch 1/20\n",
            "entered training loop\n",
            "Number of batches: 2323\n"
          ]
        },
        {
          "output_type": "stream",
          "name": "stderr",
          "text": [
            "Training: 100%|██████████| 2323/2323 [00:09<00:00, 240.00it/s]\n"
          ]
        },
        {
          "output_type": "stream",
          "name": "stdout",
          "text": [
            "Train Perplexity: 394.37\n"
          ]
        },
        {
          "output_type": "stream",
          "name": "stderr",
          "text": [
            "Evaluating: 100%|██████████| 184/184 [00:00<00:00, 713.85it/s]\n"
          ]
        },
        {
          "output_type": "stream",
          "name": "stdout",
          "text": [
            "Validation Perplexity: 237.22\n"
          ]
        },
        {
          "output_type": "stream",
          "name": "stderr",
          "text": [
            "Evaluating: 100%|██████████| 206/206 [00:00<00:00, 713.41it/s]\n"
          ]
        },
        {
          "output_type": "stream",
          "name": "stdout",
          "text": [
            "Test Perplexity: 233.01\n",
            "Best model saved to checkpoints/lstm_with_dropout\n",
            "\n",
            "Epoch 2/20\n",
            "entered training loop\n",
            "Number of batches: 2323\n"
          ]
        },
        {
          "output_type": "stream",
          "name": "stderr",
          "text": [
            "Training: 100%|██████████| 2323/2323 [00:09<00:00, 243.00it/s]\n"
          ]
        },
        {
          "output_type": "stream",
          "name": "stdout",
          "text": [
            "Train Perplexity: 224.78\n"
          ]
        },
        {
          "output_type": "stream",
          "name": "stderr",
          "text": [
            "Evaluating: 100%|██████████| 184/184 [00:00<00:00, 712.23it/s]\n"
          ]
        },
        {
          "output_type": "stream",
          "name": "stdout",
          "text": [
            "Validation Perplexity: 183.80\n"
          ]
        },
        {
          "output_type": "stream",
          "name": "stderr",
          "text": [
            "Evaluating: 100%|██████████| 206/206 [00:00<00:00, 707.58it/s]\n"
          ]
        },
        {
          "output_type": "stream",
          "name": "stdout",
          "text": [
            "Test Perplexity: 179.93\n",
            "Best model saved to checkpoints/lstm_with_dropout\n",
            "\n",
            "Epoch 3/20\n",
            "entered training loop\n",
            "Number of batches: 2323\n"
          ]
        },
        {
          "output_type": "stream",
          "name": "stderr",
          "text": [
            "Training: 100%|██████████| 2323/2323 [00:09<00:00, 242.19it/s]\n"
          ]
        },
        {
          "output_type": "stream",
          "name": "stdout",
          "text": [
            "Train Perplexity: 188.47\n"
          ]
        },
        {
          "output_type": "stream",
          "name": "stderr",
          "text": [
            "Evaluating: 100%|██████████| 184/184 [00:00<00:00, 720.42it/s]\n"
          ]
        },
        {
          "output_type": "stream",
          "name": "stdout",
          "text": [
            "Validation Perplexity: 162.82\n"
          ]
        },
        {
          "output_type": "stream",
          "name": "stderr",
          "text": [
            "Evaluating: 100%|██████████| 206/206 [00:00<00:00, 715.21it/s]\n"
          ]
        },
        {
          "output_type": "stream",
          "name": "stdout",
          "text": [
            "Test Perplexity: 158.63\n",
            "Best model saved to checkpoints/lstm_with_dropout\n",
            "\n",
            "Epoch 4/20\n",
            "entered training loop\n",
            "Number of batches: 2323\n"
          ]
        },
        {
          "output_type": "stream",
          "name": "stderr",
          "text": [
            "Training: 100%|██████████| 2323/2323 [00:09<00:00, 240.87it/s]\n"
          ]
        },
        {
          "output_type": "stream",
          "name": "stdout",
          "text": [
            "Train Perplexity: 170.45\n"
          ]
        },
        {
          "output_type": "stream",
          "name": "stderr",
          "text": [
            "Evaluating: 100%|██████████| 184/184 [00:00<00:00, 712.12it/s]\n"
          ]
        },
        {
          "output_type": "stream",
          "name": "stdout",
          "text": [
            "Validation Perplexity: 152.71\n"
          ]
        },
        {
          "output_type": "stream",
          "name": "stderr",
          "text": [
            "Evaluating: 100%|██████████| 206/206 [00:00<00:00, 723.67it/s]\n"
          ]
        },
        {
          "output_type": "stream",
          "name": "stdout",
          "text": [
            "Test Perplexity: 149.13\n",
            "Best model saved to checkpoints/lstm_with_dropout\n",
            "\n",
            "Epoch 5/20\n",
            "entered training loop\n",
            "Number of batches: 2323\n"
          ]
        },
        {
          "output_type": "stream",
          "name": "stderr",
          "text": [
            "Training: 100%|██████████| 2323/2323 [00:09<00:00, 242.92it/s]\n"
          ]
        },
        {
          "output_type": "stream",
          "name": "stdout",
          "text": [
            "Train Perplexity: 159.40\n"
          ]
        },
        {
          "output_type": "stream",
          "name": "stderr",
          "text": [
            "Evaluating: 100%|██████████| 184/184 [00:00<00:00, 722.38it/s]\n"
          ]
        },
        {
          "output_type": "stream",
          "name": "stdout",
          "text": [
            "Validation Perplexity: 142.61\n"
          ]
        },
        {
          "output_type": "stream",
          "name": "stderr",
          "text": [
            "Evaluating: 100%|██████████| 206/206 [00:00<00:00, 732.55it/s]\n"
          ]
        },
        {
          "output_type": "stream",
          "name": "stdout",
          "text": [
            "Test Perplexity: 139.65\n",
            "Best model saved to checkpoints/lstm_with_dropout\n",
            "\n",
            "Epoch 6/20\n",
            "entered training loop\n",
            "Number of batches: 2323\n"
          ]
        },
        {
          "output_type": "stream",
          "name": "stderr",
          "text": [
            "Training: 100%|██████████| 2323/2323 [00:09<00:00, 242.76it/s]\n"
          ]
        },
        {
          "output_type": "stream",
          "name": "stdout",
          "text": [
            "Train Perplexity: 152.17\n"
          ]
        },
        {
          "output_type": "stream",
          "name": "stderr",
          "text": [
            "Evaluating: 100%|██████████| 184/184 [00:00<00:00, 712.38it/s]\n"
          ]
        },
        {
          "output_type": "stream",
          "name": "stdout",
          "text": [
            "Validation Perplexity: 137.93\n"
          ]
        },
        {
          "output_type": "stream",
          "name": "stderr",
          "text": [
            "Evaluating: 100%|██████████| 206/206 [00:00<00:00, 714.56it/s]\n"
          ]
        },
        {
          "output_type": "stream",
          "name": "stdout",
          "text": [
            "Test Perplexity: 134.53\n",
            "Best model saved to checkpoints/lstm_with_dropout\n",
            "\n",
            "Epoch 7/20\n",
            "entered training loop\n",
            "Number of batches: 2323\n"
          ]
        },
        {
          "output_type": "stream",
          "name": "stderr",
          "text": [
            "Training: 100%|██████████| 2323/2323 [00:09<00:00, 244.18it/s]\n"
          ]
        },
        {
          "output_type": "stream",
          "name": "stdout",
          "text": [
            "Train Perplexity: 146.76\n"
          ]
        },
        {
          "output_type": "stream",
          "name": "stderr",
          "text": [
            "Evaluating: 100%|██████████| 184/184 [00:00<00:00, 718.15it/s]\n"
          ]
        },
        {
          "output_type": "stream",
          "name": "stdout",
          "text": [
            "Validation Perplexity: 134.45\n"
          ]
        },
        {
          "output_type": "stream",
          "name": "stderr",
          "text": [
            "Evaluating: 100%|██████████| 206/206 [00:00<00:00, 720.16it/s]\n"
          ]
        },
        {
          "output_type": "stream",
          "name": "stdout",
          "text": [
            "Test Perplexity: 131.42\n",
            "Best model saved to checkpoints/lstm_with_dropout\n",
            "\n",
            "Epoch 8/20\n",
            "entered training loop\n",
            "Number of batches: 2323\n"
          ]
        },
        {
          "output_type": "stream",
          "name": "stderr",
          "text": [
            "Training: 100%|██████████| 2323/2323 [00:09<00:00, 242.72it/s]\n"
          ]
        },
        {
          "output_type": "stream",
          "name": "stdout",
          "text": [
            "Train Perplexity: 142.54\n"
          ]
        },
        {
          "output_type": "stream",
          "name": "stderr",
          "text": [
            "Evaluating: 100%|██████████| 184/184 [00:00<00:00, 723.93it/s]\n"
          ]
        },
        {
          "output_type": "stream",
          "name": "stdout",
          "text": [
            "Validation Perplexity: 131.07\n"
          ]
        },
        {
          "output_type": "stream",
          "name": "stderr",
          "text": [
            "Evaluating: 100%|██████████| 206/206 [00:00<00:00, 724.12it/s]\n"
          ]
        },
        {
          "output_type": "stream",
          "name": "stdout",
          "text": [
            "Test Perplexity: 128.30\n",
            "Best model saved to checkpoints/lstm_with_dropout\n",
            "\n",
            "Epoch 9/20\n",
            "entered training loop\n",
            "Number of batches: 2323\n"
          ]
        },
        {
          "output_type": "stream",
          "name": "stderr",
          "text": [
            "Training: 100%|██████████| 2323/2323 [00:09<00:00, 243.83it/s]\n"
          ]
        },
        {
          "output_type": "stream",
          "name": "stdout",
          "text": [
            "Train Perplexity: 134.16\n"
          ]
        },
        {
          "output_type": "stream",
          "name": "stderr",
          "text": [
            "Evaluating: 100%|██████████| 184/184 [00:00<00:00, 707.30it/s]\n"
          ]
        },
        {
          "output_type": "stream",
          "name": "stdout",
          "text": [
            "Validation Perplexity: 125.05\n"
          ]
        },
        {
          "output_type": "stream",
          "name": "stderr",
          "text": [
            "Evaluating: 100%|██████████| 206/206 [00:00<00:00, 717.06it/s]\n"
          ]
        },
        {
          "output_type": "stream",
          "name": "stdout",
          "text": [
            "Test Perplexity: 121.96\n",
            "Best model saved to checkpoints/lstm_with_dropout\n",
            "\n",
            "Epoch 10/20\n",
            "entered training loop\n",
            "Number of batches: 2323\n"
          ]
        },
        {
          "output_type": "stream",
          "name": "stderr",
          "text": [
            "Training: 100%|██████████| 2323/2323 [00:09<00:00, 242.48it/s]\n"
          ]
        },
        {
          "output_type": "stream",
          "name": "stdout",
          "text": [
            "Train Perplexity: 127.01\n"
          ]
        },
        {
          "output_type": "stream",
          "name": "stderr",
          "text": [
            "Evaluating: 100%|██████████| 184/184 [00:00<00:00, 714.87it/s]\n"
          ]
        },
        {
          "output_type": "stream",
          "name": "stdout",
          "text": [
            "Validation Perplexity: 120.50\n"
          ]
        },
        {
          "output_type": "stream",
          "name": "stderr",
          "text": [
            "Evaluating: 100%|██████████| 206/206 [00:00<00:00, 722.36it/s]\n"
          ]
        },
        {
          "output_type": "stream",
          "name": "stdout",
          "text": [
            "Test Perplexity: 117.40\n",
            "Best model saved to checkpoints/lstm_with_dropout\n",
            "\n",
            "Epoch 11/20\n",
            "entered training loop\n",
            "Number of batches: 2323\n"
          ]
        },
        {
          "output_type": "stream",
          "name": "stderr",
          "text": [
            "Training: 100%|██████████| 2323/2323 [00:09<00:00, 242.93it/s]\n"
          ]
        },
        {
          "output_type": "stream",
          "name": "stdout",
          "text": [
            "Train Perplexity: 121.15\n"
          ]
        },
        {
          "output_type": "stream",
          "name": "stderr",
          "text": [
            "Evaluating: 100%|██████████| 184/184 [00:00<00:00, 718.00it/s]\n"
          ]
        },
        {
          "output_type": "stream",
          "name": "stdout",
          "text": [
            "Validation Perplexity: 117.41\n"
          ]
        },
        {
          "output_type": "stream",
          "name": "stderr",
          "text": [
            "Evaluating: 100%|██████████| 206/206 [00:00<00:00, 717.67it/s]\n"
          ]
        },
        {
          "output_type": "stream",
          "name": "stdout",
          "text": [
            "Test Perplexity: 114.07\n",
            "Best model saved to checkpoints/lstm_with_dropout\n",
            "\n",
            "Epoch 12/20\n",
            "entered training loop\n",
            "Number of batches: 2323\n"
          ]
        },
        {
          "output_type": "stream",
          "name": "stderr",
          "text": [
            "Training: 100%|██████████| 2323/2323 [00:09<00:00, 243.43it/s]\n"
          ]
        },
        {
          "output_type": "stream",
          "name": "stdout",
          "text": [
            "Train Perplexity: 117.06\n"
          ]
        },
        {
          "output_type": "stream",
          "name": "stderr",
          "text": [
            "Evaluating: 100%|██████████| 184/184 [00:00<00:00, 722.22it/s]\n"
          ]
        },
        {
          "output_type": "stream",
          "name": "stdout",
          "text": [
            "Validation Perplexity: 114.97\n"
          ]
        },
        {
          "output_type": "stream",
          "name": "stderr",
          "text": [
            "Evaluating: 100%|██████████| 206/206 [00:00<00:00, 714.91it/s]\n"
          ]
        },
        {
          "output_type": "stream",
          "name": "stdout",
          "text": [
            "Test Perplexity: 111.30\n",
            "Best model saved to checkpoints/lstm_with_dropout\n",
            "\n",
            "Epoch 13/20\n",
            "entered training loop\n",
            "Number of batches: 2323\n"
          ]
        },
        {
          "output_type": "stream",
          "name": "stderr",
          "text": [
            "Training: 100%|██████████| 2323/2323 [00:09<00:00, 242.39it/s]\n"
          ]
        },
        {
          "output_type": "stream",
          "name": "stdout",
          "text": [
            "Train Perplexity: 113.75\n"
          ]
        },
        {
          "output_type": "stream",
          "name": "stderr",
          "text": [
            "Evaluating: 100%|██████████| 184/184 [00:00<00:00, 715.17it/s]\n"
          ]
        },
        {
          "output_type": "stream",
          "name": "stdout",
          "text": [
            "Validation Perplexity: 113.28\n"
          ]
        },
        {
          "output_type": "stream",
          "name": "stderr",
          "text": [
            "Evaluating: 100%|██████████| 206/206 [00:00<00:00, 713.69it/s]\n"
          ]
        },
        {
          "output_type": "stream",
          "name": "stdout",
          "text": [
            "Test Perplexity: 109.94\n",
            "Best model saved to checkpoints/lstm_with_dropout\n",
            "\n",
            "Epoch 14/20\n",
            "entered training loop\n",
            "Number of batches: 2323\n"
          ]
        },
        {
          "output_type": "stream",
          "name": "stderr",
          "text": [
            "Training: 100%|██████████| 2323/2323 [00:09<00:00, 243.10it/s]\n"
          ]
        },
        {
          "output_type": "stream",
          "name": "stdout",
          "text": [
            "Train Perplexity: 111.44\n"
          ]
        },
        {
          "output_type": "stream",
          "name": "stderr",
          "text": [
            "Evaluating: 100%|██████████| 184/184 [00:00<00:00, 720.67it/s]\n"
          ]
        },
        {
          "output_type": "stream",
          "name": "stdout",
          "text": [
            "Validation Perplexity: 112.28\n"
          ]
        },
        {
          "output_type": "stream",
          "name": "stderr",
          "text": [
            "Evaluating: 100%|██████████| 206/206 [00:00<00:00, 719.68it/s]\n"
          ]
        },
        {
          "output_type": "stream",
          "name": "stdout",
          "text": [
            "Test Perplexity: 108.70\n",
            "Best model saved to checkpoints/lstm_with_dropout\n",
            "\n",
            "Epoch 15/20\n",
            "entered training loop\n",
            "Number of batches: 2323\n"
          ]
        },
        {
          "output_type": "stream",
          "name": "stderr",
          "text": [
            "Training: 100%|██████████| 2323/2323 [00:09<00:00, 243.39it/s]\n"
          ]
        },
        {
          "output_type": "stream",
          "name": "stdout",
          "text": [
            "Train Perplexity: 109.54\n"
          ]
        },
        {
          "output_type": "stream",
          "name": "stderr",
          "text": [
            "Evaluating: 100%|██████████| 184/184 [00:00<00:00, 714.38it/s]\n"
          ]
        },
        {
          "output_type": "stream",
          "name": "stdout",
          "text": [
            "Validation Perplexity: 110.88\n"
          ]
        },
        {
          "output_type": "stream",
          "name": "stderr",
          "text": [
            "Evaluating: 100%|██████████| 206/206 [00:00<00:00, 710.83it/s]\n"
          ]
        },
        {
          "output_type": "stream",
          "name": "stdout",
          "text": [
            "Test Perplexity: 107.42\n",
            "Best model saved to checkpoints/lstm_with_dropout\n",
            "\n",
            "Epoch 16/20\n",
            "entered training loop\n",
            "Number of batches: 2323\n"
          ]
        },
        {
          "output_type": "stream",
          "name": "stderr",
          "text": [
            "Training: 100%|██████████| 2323/2323 [00:09<00:00, 243.57it/s]\n"
          ]
        },
        {
          "output_type": "stream",
          "name": "stdout",
          "text": [
            "Train Perplexity: 108.25\n"
          ]
        },
        {
          "output_type": "stream",
          "name": "stderr",
          "text": [
            "Evaluating: 100%|██████████| 184/184 [00:00<00:00, 708.54it/s]\n"
          ]
        },
        {
          "output_type": "stream",
          "name": "stdout",
          "text": [
            "Validation Perplexity: 110.38\n"
          ]
        },
        {
          "output_type": "stream",
          "name": "stderr",
          "text": [
            "Evaluating: 100%|██████████| 206/206 [00:00<00:00, 719.77it/s]\n"
          ]
        },
        {
          "output_type": "stream",
          "name": "stdout",
          "text": [
            "Test Perplexity: 106.85\n",
            "Best model saved to checkpoints/lstm_with_dropout\n",
            "\n",
            "Epoch 17/20\n",
            "entered training loop\n",
            "Number of batches: 2323\n"
          ]
        },
        {
          "output_type": "stream",
          "name": "stderr",
          "text": [
            "Training: 100%|██████████| 2323/2323 [00:09<00:00, 244.28it/s]\n"
          ]
        },
        {
          "output_type": "stream",
          "name": "stdout",
          "text": [
            "Train Perplexity: 107.21\n"
          ]
        },
        {
          "output_type": "stream",
          "name": "stderr",
          "text": [
            "Evaluating: 100%|██████████| 184/184 [00:00<00:00, 710.75it/s]\n"
          ]
        },
        {
          "output_type": "stream",
          "name": "stdout",
          "text": [
            "Validation Perplexity: 109.96\n"
          ]
        },
        {
          "output_type": "stream",
          "name": "stderr",
          "text": [
            "Evaluating: 100%|██████████| 206/206 [00:00<00:00, 723.37it/s]\n"
          ]
        },
        {
          "output_type": "stream",
          "name": "stdout",
          "text": [
            "Test Perplexity: 106.28\n",
            "Best model saved to checkpoints/lstm_with_dropout\n",
            "\n",
            "Epoch 18/20\n",
            "entered training loop\n",
            "Number of batches: 2323\n"
          ]
        },
        {
          "output_type": "stream",
          "name": "stderr",
          "text": [
            "Training: 100%|██████████| 2323/2323 [00:09<00:00, 243.36it/s]\n"
          ]
        },
        {
          "output_type": "stream",
          "name": "stdout",
          "text": [
            "Train Perplexity: 106.40\n"
          ]
        },
        {
          "output_type": "stream",
          "name": "stderr",
          "text": [
            "Evaluating: 100%|██████████| 184/184 [00:00<00:00, 712.31it/s]\n"
          ]
        },
        {
          "output_type": "stream",
          "name": "stdout",
          "text": [
            "Validation Perplexity: 109.50\n"
          ]
        },
        {
          "output_type": "stream",
          "name": "stderr",
          "text": [
            "Evaluating: 100%|██████████| 206/206 [00:00<00:00, 721.75it/s]\n"
          ]
        },
        {
          "output_type": "stream",
          "name": "stdout",
          "text": [
            "Test Perplexity: 105.77\n",
            "Best model saved to checkpoints/lstm_with_dropout\n",
            "\n",
            "Epoch 19/20\n",
            "entered training loop\n",
            "Number of batches: 2323\n"
          ]
        },
        {
          "output_type": "stream",
          "name": "stderr",
          "text": [
            "Training: 100%|██████████| 2323/2323 [00:09<00:00, 243.98it/s]\n"
          ]
        },
        {
          "output_type": "stream",
          "name": "stdout",
          "text": [
            "Train Perplexity: 105.87\n"
          ]
        },
        {
          "output_type": "stream",
          "name": "stderr",
          "text": [
            "Evaluating: 100%|██████████| 184/184 [00:00<00:00, 719.77it/s]\n"
          ]
        },
        {
          "output_type": "stream",
          "name": "stdout",
          "text": [
            "Validation Perplexity: 109.27\n"
          ]
        },
        {
          "output_type": "stream",
          "name": "stderr",
          "text": [
            "Evaluating: 100%|██████████| 206/206 [00:00<00:00, 716.30it/s]\n"
          ]
        },
        {
          "output_type": "stream",
          "name": "stdout",
          "text": [
            "Test Perplexity: 105.49\n",
            "Best model saved to checkpoints/lstm_with_dropout\n",
            "\n",
            "Epoch 20/20\n",
            "entered training loop\n",
            "Number of batches: 2323\n"
          ]
        },
        {
          "output_type": "stream",
          "name": "stderr",
          "text": [
            "Training: 100%|██████████| 2323/2323 [00:09<00:00, 241.91it/s]\n"
          ]
        },
        {
          "output_type": "stream",
          "name": "stdout",
          "text": [
            "Train Perplexity: 105.38\n"
          ]
        },
        {
          "output_type": "stream",
          "name": "stderr",
          "text": [
            "Evaluating: 100%|██████████| 184/184 [00:00<00:00, 716.18it/s]\n"
          ]
        },
        {
          "output_type": "stream",
          "name": "stdout",
          "text": [
            "Validation Perplexity: 109.08\n"
          ]
        },
        {
          "output_type": "stream",
          "name": "stderr",
          "text": [
            "Evaluating: 100%|██████████| 206/206 [00:00<00:00, 709.42it/s]\n"
          ]
        },
        {
          "output_type": "stream",
          "name": "stdout",
          "text": [
            "Test Perplexity: 105.22\n",
            "Best model saved to checkpoints/lstm_with_dropout\n"
          ]
        },
        {
          "output_type": "display_data",
          "data": {
            "text/plain": [
              "<Figure size 1000x600 with 1 Axes>"
            ],
            "image/png": "[encoded data removed]"
          },
          "metadata": {}
        },
        {
          "output_type": "stream",
          "name": "stdout",
          "text": [
            "\n",
            "--- Starting Experiment: GRU with Dropout=0.0 ---\n",
            "\n",
            "Epoch 1/13\n",
            "entered training loop\n",
            "Number of batches: 2323\n"
          ]
        },
        {
          "output_type": "stream",
          "name": "stderr",
          "text": [
            "Training: 100%|██████████| 2323/2323 [00:08<00:00, 262.83it/s]\n"
          ]
        },
        {
          "output_type": "stream",
          "name": "stdout",
          "text": [
            "Train Perplexity: 384.39\n"
          ]
        },
        {
          "output_type": "stream",
          "name": "stderr",
          "text": [
            "Evaluating: 100%|██████████| 184/184 [00:00<00:00, 726.38it/s]\n"
          ]
        },
        {
          "output_type": "stream",
          "name": "stdout",
          "text": [
            "Validation Perplexity: 243.05\n"
          ]
        },
        {
          "output_type": "stream",
          "name": "stderr",
          "text": [
            "Evaluating: 100%|██████████| 206/206 [00:00<00:00, 725.92it/s]\n"
          ]
        },
        {
          "output_type": "stream",
          "name": "stdout",
          "text": [
            "Test Perplexity: 239.44\n",
            "Best model saved to checkpoints/gru_no_dropout\n",
            "\n",
            "Epoch 2/13\n",
            "entered training loop\n",
            "Number of batches: 2323\n"
          ]
        },
        {
          "output_type": "stream",
          "name": "stderr",
          "text": [
            "Training: 100%|██████████| 2323/2323 [00:08<00:00, 261.47it/s]\n"
          ]
        },
        {
          "output_type": "stream",
          "name": "stdout",
          "text": [
            "Train Perplexity: 181.64\n"
          ]
        },
        {
          "output_type": "stream",
          "name": "stderr",
          "text": [
            "Evaluating: 100%|██████████| 184/184 [00:00<00:00, 710.48it/s]\n"
          ]
        },
        {
          "output_type": "stream",
          "name": "stdout",
          "text": [
            "Validation Perplexity: 177.35\n"
          ]
        },
        {
          "output_type": "stream",
          "name": "stderr",
          "text": [
            "Evaluating: 100%|██████████| 206/206 [00:00<00:00, 711.26it/s]\n"
          ]
        },
        {
          "output_type": "stream",
          "name": "stdout",
          "text": [
            "Test Perplexity: 173.73\n",
            "Best model saved to checkpoints/gru_no_dropout\n",
            "\n",
            "Epoch 3/13\n",
            "entered training loop\n",
            "Number of batches: 2323\n"
          ]
        },
        {
          "output_type": "stream",
          "name": "stderr",
          "text": [
            "Training: 100%|██████████| 2323/2323 [00:08<00:00, 264.50it/s]\n"
          ]
        },
        {
          "output_type": "stream",
          "name": "stdout",
          "text": [
            "Train Perplexity: 134.54\n"
          ]
        },
        {
          "output_type": "stream",
          "name": "stderr",
          "text": [
            "Evaluating: 100%|██████████| 184/184 [00:00<00:00, 717.81it/s]\n"
          ]
        },
        {
          "output_type": "stream",
          "name": "stdout",
          "text": [
            "Validation Perplexity: 154.05\n"
          ]
        },
        {
          "output_type": "stream",
          "name": "stderr",
          "text": [
            "Evaluating: 100%|██████████| 206/206 [00:00<00:00, 725.44it/s]\n"
          ]
        },
        {
          "output_type": "stream",
          "name": "stdout",
          "text": [
            "Test Perplexity: 151.08\n",
            "Best model saved to checkpoints/gru_no_dropout\n",
            "\n",
            "Epoch 4/13\n",
            "entered training loop\n",
            "Number of batches: 2323\n"
          ]
        },
        {
          "output_type": "stream",
          "name": "stderr",
          "text": [
            "Training: 100%|██████████| 2323/2323 [00:08<00:00, 265.21it/s]\n"
          ]
        },
        {
          "output_type": "stream",
          "name": "stdout",
          "text": [
            "Train Perplexity: 109.84\n"
          ]
        },
        {
          "output_type": "stream",
          "name": "stderr",
          "text": [
            "Evaluating: 100%|██████████| 184/184 [00:00<00:00, 711.32it/s]\n"
          ]
        },
        {
          "output_type": "stream",
          "name": "stdout",
          "text": [
            "Validation Perplexity: 142.84\n"
          ]
        },
        {
          "output_type": "stream",
          "name": "stderr",
          "text": [
            "Evaluating: 100%|██████████| 206/206 [00:00<00:00, 724.07it/s]\n"
          ]
        },
        {
          "output_type": "stream",
          "name": "stdout",
          "text": [
            "Test Perplexity: 140.09\n",
            "Best model saved to checkpoints/gru_no_dropout\n",
            "\n",
            "Epoch 5/13\n",
            "entered training loop\n",
            "Number of batches: 2323\n"
          ]
        },
        {
          "output_type": "stream",
          "name": "stderr",
          "text": [
            "Training: 100%|██████████| 2323/2323 [00:08<00:00, 261.21it/s]\n"
          ]
        },
        {
          "output_type": "stream",
          "name": "stdout",
          "text": [
            "Train Perplexity: 93.77\n"
          ]
        },
        {
          "output_type": "stream",
          "name": "stderr",
          "text": [
            "Evaluating: 100%|██████████| 184/184 [00:00<00:00, 723.73it/s]\n"
          ]
        },
        {
          "output_type": "stream",
          "name": "stdout",
          "text": [
            "Validation Perplexity: 138.15\n"
          ]
        },
        {
          "output_type": "stream",
          "name": "stderr",
          "text": [
            "Evaluating: 100%|██████████| 206/206 [00:00<00:00, 725.11it/s]\n"
          ]
        },
        {
          "output_type": "stream",
          "name": "stdout",
          "text": [
            "Test Perplexity: 135.21\n",
            "Best model saved to checkpoints/gru_no_dropout\n",
            "\n",
            "Epoch 6/13\n",
            "entered training loop\n",
            "Number of batches: 2323\n"
          ]
        },
        {
          "output_type": "stream",
          "name": "stderr",
          "text": [
            "Training: 100%|██████████| 2323/2323 [00:08<00:00, 263.38it/s]\n"
          ]
        },
        {
          "output_type": "stream",
          "name": "stdout",
          "text": [
            "Train Perplexity: 82.23\n"
          ]
        },
        {
          "output_type": "stream",
          "name": "stderr",
          "text": [
            "Evaluating: 100%|██████████| 184/184 [00:00<00:00, 720.84it/s]\n"
          ]
        },
        {
          "output_type": "stream",
          "name": "stdout",
          "text": [
            "Validation Perplexity: 135.83\n"
          ]
        },
        {
          "output_type": "stream",
          "name": "stderr",
          "text": [
            "Evaluating: 100%|██████████| 206/206 [00:00<00:00, 722.98it/s]\n"
          ]
        },
        {
          "output_type": "stream",
          "name": "stdout",
          "text": [
            "Test Perplexity: 133.02\n",
            "Best model saved to checkpoints/gru_no_dropout\n",
            "\n",
            "Epoch 7/13\n",
            "entered training loop\n",
            "Number of batches: 2323\n"
          ]
        },
        {
          "output_type": "stream",
          "name": "stderr",
          "text": [
            "Training: 100%|██████████| 2323/2323 [00:08<00:00, 265.57it/s]\n"
          ]
        },
        {
          "output_type": "stream",
          "name": "stdout",
          "text": [
            "Train Perplexity: 73.44\n"
          ]
        },
        {
          "output_type": "stream",
          "name": "stderr",
          "text": [
            "Evaluating: 100%|██████████| 184/184 [00:00<00:00, 725.41it/s]\n"
          ]
        },
        {
          "output_type": "stream",
          "name": "stdout",
          "text": [
            "Validation Perplexity: 136.48\n"
          ]
        },
        {
          "output_type": "stream",
          "name": "stderr",
          "text": [
            "Evaluating: 100%|██████████| 206/206 [00:00<00:00, 720.77it/s]\n"
          ]
        },
        {
          "output_type": "stream",
          "name": "stdout",
          "text": [
            "Test Perplexity: 133.78\n",
            "\n",
            "Epoch 8/13\n",
            "entered training loop\n",
            "Number of batches: 2323\n"
          ]
        },
        {
          "output_type": "stream",
          "name": "stderr",
          "text": [
            "Training: 100%|██████████| 2323/2323 [00:08<00:00, 262.23it/s]\n"
          ]
        },
        {
          "output_type": "stream",
          "name": "stdout",
          "text": [
            "Train Perplexity: 61.82\n"
          ]
        },
        {
          "output_type": "stream",
          "name": "stderr",
          "text": [
            "Evaluating: 100%|██████████| 184/184 [00:00<00:00, 698.11it/s]\n"
          ]
        },
        {
          "output_type": "stream",
          "name": "stdout",
          "text": [
            "Validation Perplexity: 129.55\n"
          ]
        },
        {
          "output_type": "stream",
          "name": "stderr",
          "text": [
            "Evaluating: 100%|██████████| 206/206 [00:00<00:00, 726.01it/s]\n"
          ]
        },
        {
          "output_type": "stream",
          "name": "stdout",
          "text": [
            "Test Perplexity: 126.48\n",
            "Best model saved to checkpoints/gru_no_dropout\n",
            "\n",
            "Epoch 9/13\n",
            "entered training loop\n",
            "Number of batches: 2323\n"
          ]
        },
        {
          "output_type": "stream",
          "name": "stderr",
          "text": [
            "Training: 100%|██████████| 2323/2323 [00:08<00:00, 264.45it/s]\n"
          ]
        },
        {
          "output_type": "stream",
          "name": "stdout",
          "text": [
            "Train Perplexity: 56.22\n"
          ]
        },
        {
          "output_type": "stream",
          "name": "stderr",
          "text": [
            "Evaluating: 100%|██████████| 184/184 [00:00<00:00, 726.38it/s]\n"
          ]
        },
        {
          "output_type": "stream",
          "name": "stdout",
          "text": [
            "Validation Perplexity: 125.61\n"
          ]
        },
        {
          "output_type": "stream",
          "name": "stderr",
          "text": [
            "Evaluating: 100%|██████████| 206/206 [00:00<00:00, 731.61it/s]\n"
          ]
        },
        {
          "output_type": "stream",
          "name": "stdout",
          "text": [
            "Test Perplexity: 122.35\n",
            "Best model saved to checkpoints/gru_no_dropout\n",
            "\n",
            "Epoch 10/13\n",
            "entered training loop\n",
            "Number of batches: 2323\n"
          ]
        },
        {
          "output_type": "stream",
          "name": "stderr",
          "text": [
            "Training: 100%|██████████| 2323/2323 [00:08<00:00, 264.09it/s]\n"
          ]
        },
        {
          "output_type": "stream",
          "name": "stdout",
          "text": [
            "Train Perplexity: 53.54\n"
          ]
        },
        {
          "output_type": "stream",
          "name": "stderr",
          "text": [
            "Evaluating: 100%|██████████| 184/184 [00:00<00:00, 731.27it/s]\n"
          ]
        },
        {
          "output_type": "stream",
          "name": "stdout",
          "text": [
            "Validation Perplexity: 123.37\n"
          ]
        },
        {
          "output_type": "stream",
          "name": "stderr",
          "text": [
            "Evaluating: 100%|██████████| 206/206 [00:00<00:00, 731.91it/s]\n"
          ]
        },
        {
          "output_type": "stream",
          "name": "stdout",
          "text": [
            "Test Perplexity: 119.89\n",
            "Best model saved to checkpoints/gru_no_dropout\n",
            "\n",
            "Epoch 11/13\n",
            "entered training loop\n",
            "Number of batches: 2323\n"
          ]
        },
        {
          "output_type": "stream",
          "name": "stderr",
          "text": [
            "Training: 100%|██████████| 2323/2323 [00:08<00:00, 263.30it/s]\n"
          ]
        },
        {
          "output_type": "stream",
          "name": "stdout",
          "text": [
            "Train Perplexity: 52.21\n"
          ]
        },
        {
          "output_type": "stream",
          "name": "stderr",
          "text": [
            "Evaluating: 100%|██████████| 184/184 [00:00<00:00, 727.01it/s]\n"
          ]
        },
        {
          "output_type": "stream",
          "name": "stdout",
          "text": [
            "Validation Perplexity: 122.21\n"
          ]
        },
        {
          "output_type": "stream",
          "name": "stderr",
          "text": [
            "Evaluating: 100%|██████████| 206/206 [00:00<00:00, 716.19it/s]\n"
          ]
        },
        {
          "output_type": "stream",
          "name": "stdout",
          "text": [
            "Test Perplexity: 118.41\n",
            "Best model saved to checkpoints/gru_no_dropout\n",
            "\n",
            "Epoch 12/13\n",
            "entered training loop\n",
            "Number of batches: 2323\n"
          ]
        },
        {
          "output_type": "stream",
          "name": "stderr",
          "text": [
            "Training: 100%|██████████| 2323/2323 [00:08<00:00, 261.27it/s]\n"
          ]
        },
        {
          "output_type": "stream",
          "name": "stdout",
          "text": [
            "Train Perplexity: 51.50\n"
          ]
        },
        {
          "output_type": "stream",
          "name": "stderr",
          "text": [
            "Evaluating: 100%|██████████| 184/184 [00:00<00:00, 717.22it/s]\n"
          ]
        },
        {
          "output_type": "stream",
          "name": "stdout",
          "text": [
            "Validation Perplexity: 121.73\n"
          ]
        },
        {
          "output_type": "stream",
          "name": "stderr",
          "text": [
            "Evaluating: 100%|██████████| 206/206 [00:00<00:00, 722.39it/s]\n"
          ]
        },
        {
          "output_type": "stream",
          "name": "stdout",
          "text": [
            "Test Perplexity: 117.69\n",
            "Best model saved to checkpoints/gru_no_dropout\n",
            "\n",
            "Epoch 13/13\n",
            "entered training loop\n",
            "Number of batches: 2323\n"
          ]
        },
        {
          "output_type": "stream",
          "name": "stderr",
          "text": [
            "Training: 100%|██████████| 2323/2323 [00:08<00:00, 262.89it/s]\n"
          ]
        },
        {
          "output_type": "stream",
          "name": "stdout",
          "text": [
            "Train Perplexity: 51.11\n"
          ]
        },
        {
          "output_type": "stream",
          "name": "stderr",
          "text": [
            "Evaluating: 100%|██████████| 184/184 [00:00<00:00, 714.89it/s]\n"
          ]
        },
        {
          "output_type": "stream",
          "name": "stdout",
          "text": [
            "Validation Perplexity: 121.48\n"
          ]
        },
        {
          "output_type": "stream",
          "name": "stderr",
          "text": [
            "Evaluating: 100%|██████████| 206/206 [00:00<00:00, 728.51it/s]\n"
          ]
        },
        {
          "output_type": "stream",
          "name": "stdout",
          "text": [
            "Test Perplexity: 117.32\n",
            "Best model saved to checkpoints/gru_no_dropout\n"
          ]
        },
        {
          "output_type": "display_data",
          "data": {
            "text/plain": [
              "<Figure size 1000x600 with 1 Axes>"
            ],
            "image/png": "[encoded data removed]"
          },
          "metadata": {}
        },
        {
          "output_type": "stream",
          "name": "stdout",
          "text": [
            "\n",
            "--- Starting Experiment: GRU with Dropout=0.3 ---\n",
            "\n",
            "Epoch 1/20\n",
            "entered training loop\n",
            "Number of batches: 2323\n"
          ]
        },
        {
          "output_type": "stream",
          "name": "stderr",
          "text": [
            "Training: 100%|██████████| 2323/2323 [00:09<00:00, 254.56it/s]\n"
          ]
        },
        {
          "output_type": "stream",
          "name": "stdout",
          "text": [
            "Train Perplexity: 387.25\n"
          ]
        },
        {
          "output_type": "stream",
          "name": "stderr",
          "text": [
            "Evaluating: 100%|██████████| 184/184 [00:00<00:00, 722.36it/s]\n"
          ]
        },
        {
          "output_type": "stream",
          "name": "stdout",
          "text": [
            "Validation Perplexity: 231.56\n"
          ]
        },
        {
          "output_type": "stream",
          "name": "stderr",
          "text": [
            "Evaluating: 100%|██████████| 206/206 [00:00<00:00, 695.29it/s]\n"
          ]
        },
        {
          "output_type": "stream",
          "name": "stdout",
          "text": [
            "Test Perplexity: 227.78\n",
            "Best model saved to checkpoints/gru_with_dropout\n",
            "\n",
            "Epoch 2/20\n",
            "entered training loop\n",
            "Number of batches: 2323\n"
          ]
        },
        {
          "output_type": "stream",
          "name": "stderr",
          "text": [
            "Training: 100%|██████████| 2323/2323 [00:09<00:00, 253.39it/s]\n"
          ]
        },
        {
          "output_type": "stream",
          "name": "stdout",
          "text": [
            "Train Perplexity: 206.39\n"
          ]
        },
        {
          "output_type": "stream",
          "name": "stderr",
          "text": [
            "Evaluating: 100%|██████████| 184/184 [00:00<00:00, 718.43it/s]\n"
          ]
        },
        {
          "output_type": "stream",
          "name": "stdout",
          "text": [
            "Validation Perplexity: 176.56\n"
          ]
        },
        {
          "output_type": "stream",
          "name": "stderr",
          "text": [
            "Evaluating: 100%|██████████| 206/206 [00:00<00:00, 729.75it/s]\n"
          ]
        },
        {
          "output_type": "stream",
          "name": "stdout",
          "text": [
            "Test Perplexity: 173.99\n",
            "Best model saved to checkpoints/gru_with_dropout\n",
            "\n",
            "Epoch 3/20\n",
            "entered training loop\n",
            "Number of batches: 2323\n"
          ]
        },
        {
          "output_type": "stream",
          "name": "stderr",
          "text": [
            "Training: 100%|██████████| 2323/2323 [00:09<00:00, 253.90it/s]\n"
          ]
        },
        {
          "output_type": "stream",
          "name": "stdout",
          "text": [
            "Train Perplexity: 164.97\n"
          ]
        },
        {
          "output_type": "stream",
          "name": "stderr",
          "text": [
            "Evaluating: 100%|██████████| 184/184 [00:00<00:00, 720.34it/s]\n"
          ]
        },
        {
          "output_type": "stream",
          "name": "stdout",
          "text": [
            "Validation Perplexity: 155.63\n"
          ]
        },
        {
          "output_type": "stream",
          "name": "stderr",
          "text": [
            "Evaluating: 100%|██████████| 206/206 [00:00<00:00, 729.34it/s]\n"
          ]
        },
        {
          "output_type": "stream",
          "name": "stdout",
          "text": [
            "Test Perplexity: 153.05\n",
            "Best model saved to checkpoints/gru_with_dropout\n",
            "\n",
            "Epoch 4/20\n",
            "entered training loop\n",
            "Number of batches: 2323\n"
          ]
        },
        {
          "output_type": "stream",
          "name": "stderr",
          "text": [
            "Training: 100%|██████████| 2323/2323 [00:09<00:00, 252.33it/s]\n"
          ]
        },
        {
          "output_type": "stream",
          "name": "stdout",
          "text": [
            "Train Perplexity: 143.10\n"
          ]
        },
        {
          "output_type": "stream",
          "name": "stderr",
          "text": [
            "Evaluating: 100%|██████████| 184/184 [00:00<00:00, 718.02it/s]\n"
          ]
        },
        {
          "output_type": "stream",
          "name": "stdout",
          "text": [
            "Validation Perplexity: 141.88\n"
          ]
        },
        {
          "output_type": "stream",
          "name": "stderr",
          "text": [
            "Evaluating: 100%|██████████| 206/206 [00:00<00:00, 731.22it/s]\n"
          ]
        },
        {
          "output_type": "stream",
          "name": "stdout",
          "text": [
            "Test Perplexity: 139.09\n",
            "Best model saved to checkpoints/gru_with_dropout\n",
            "\n",
            "Epoch 5/20\n",
            "entered training loop\n",
            "Number of batches: 2323\n"
          ]
        },
        {
          "output_type": "stream",
          "name": "stderr",
          "text": [
            "Training: 100%|██████████| 2323/2323 [00:09<00:00, 254.89it/s]\n"
          ]
        },
        {
          "output_type": "stream",
          "name": "stdout",
          "text": [
            "Train Perplexity: 129.05\n"
          ]
        },
        {
          "output_type": "stream",
          "name": "stderr",
          "text": [
            "Evaluating: 100%|██████████| 184/184 [00:00<00:00, 733.52it/s]\n"
          ]
        },
        {
          "output_type": "stream",
          "name": "stdout",
          "text": [
            "Validation Perplexity: 134.98\n"
          ]
        },
        {
          "output_type": "stream",
          "name": "stderr",
          "text": [
            "Evaluating: 100%|██████████| 206/206 [00:00<00:00, 708.55it/s]\n"
          ]
        },
        {
          "output_type": "stream",
          "name": "stdout",
          "text": [
            "Test Perplexity: 133.04\n",
            "Best model saved to checkpoints/gru_with_dropout\n",
            "\n",
            "Epoch 6/20\n",
            "entered training loop\n",
            "Number of batches: 2323\n"
          ]
        },
        {
          "output_type": "stream",
          "name": "stderr",
          "text": [
            "Training: 100%|██████████| 2323/2323 [00:09<00:00, 254.32it/s]\n"
          ]
        },
        {
          "output_type": "stream",
          "name": "stdout",
          "text": [
            "Train Perplexity: 119.20\n"
          ]
        },
        {
          "output_type": "stream",
          "name": "stderr",
          "text": [
            "Evaluating: 100%|██████████| 184/184 [00:00<00:00, 729.12it/s]\n"
          ]
        },
        {
          "output_type": "stream",
          "name": "stdout",
          "text": [
            "Validation Perplexity: 129.78\n"
          ]
        },
        {
          "output_type": "stream",
          "name": "stderr",
          "text": [
            "Evaluating: 100%|██████████| 206/206 [00:00<00:00, 724.64it/s]\n"
          ]
        },
        {
          "output_type": "stream",
          "name": "stdout",
          "text": [
            "Test Perplexity: 128.00\n",
            "Best model saved to checkpoints/gru_with_dropout\n",
            "\n",
            "Epoch 7/20\n",
            "entered training loop\n",
            "Number of batches: 2323\n"
          ]
        },
        {
          "output_type": "stream",
          "name": "stderr",
          "text": [
            "Training: 100%|██████████| 2323/2323 [00:09<00:00, 256.52it/s]\n"
          ]
        },
        {
          "output_type": "stream",
          "name": "stdout",
          "text": [
            "Train Perplexity: 111.65\n"
          ]
        },
        {
          "output_type": "stream",
          "name": "stderr",
          "text": [
            "Evaluating: 100%|██████████| 184/184 [00:00<00:00, 694.32it/s]\n"
          ]
        },
        {
          "output_type": "stream",
          "name": "stdout",
          "text": [
            "Validation Perplexity: 126.29\n"
          ]
        },
        {
          "output_type": "stream",
          "name": "stderr",
          "text": [
            "Evaluating: 100%|██████████| 206/206 [00:00<00:00, 708.87it/s]\n"
          ]
        },
        {
          "output_type": "stream",
          "name": "stdout",
          "text": [
            "Test Perplexity: 123.84\n",
            "Best model saved to checkpoints/gru_with_dropout\n",
            "\n",
            "Epoch 8/20\n",
            "entered training loop\n",
            "Number of batches: 2323\n"
          ]
        },
        {
          "output_type": "stream",
          "name": "stderr",
          "text": [
            "Training: 100%|██████████| 2323/2323 [00:09<00:00, 254.67it/s]\n"
          ]
        },
        {
          "output_type": "stream",
          "name": "stdout",
          "text": [
            "Train Perplexity: 105.85\n"
          ]
        },
        {
          "output_type": "stream",
          "name": "stderr",
          "text": [
            "Evaluating: 100%|██████████| 184/184 [00:00<00:00, 718.07it/s]\n"
          ]
        },
        {
          "output_type": "stream",
          "name": "stdout",
          "text": [
            "Validation Perplexity: 124.73\n"
          ]
        },
        {
          "output_type": "stream",
          "name": "stderr",
          "text": [
            "Evaluating: 100%|██████████| 206/206 [00:00<00:00, 721.45it/s]\n"
          ]
        },
        {
          "output_type": "stream",
          "name": "stdout",
          "text": [
            "Test Perplexity: 122.46\n",
            "Best model saved to checkpoints/gru_with_dropout\n",
            "\n",
            "Epoch 9/20\n",
            "entered training loop\n",
            "Number of batches: 2323\n"
          ]
        },
        {
          "output_type": "stream",
          "name": "stderr",
          "text": [
            "Training: 100%|██████████| 2323/2323 [00:09<00:00, 255.75it/s]\n"
          ]
        },
        {
          "output_type": "stream",
          "name": "stdout",
          "text": [
            "Train Perplexity: 97.03\n"
          ]
        },
        {
          "output_type": "stream",
          "name": "stderr",
          "text": [
            "Evaluating: 100%|██████████| 184/184 [00:00<00:00, 728.62it/s]\n"
          ]
        },
        {
          "output_type": "stream",
          "name": "stdout",
          "text": [
            "Validation Perplexity: 118.34\n"
          ]
        },
        {
          "output_type": "stream",
          "name": "stderr",
          "text": [
            "Evaluating: 100%|██████████| 206/206 [00:00<00:00, 724.02it/s]\n"
          ]
        },
        {
          "output_type": "stream",
          "name": "stdout",
          "text": [
            "Test Perplexity: 115.72\n",
            "Best model saved to checkpoints/gru_with_dropout\n",
            "\n",
            "Epoch 10/20\n",
            "entered training loop\n",
            "Number of batches: 2323\n"
          ]
        },
        {
          "output_type": "stream",
          "name": "stderr",
          "text": [
            "Training: 100%|██████████| 2323/2323 [00:09<00:00, 256.85it/s]\n"
          ]
        },
        {
          "output_type": "stream",
          "name": "stdout",
          "text": [
            "Train Perplexity: 90.15\n"
          ]
        },
        {
          "output_type": "stream",
          "name": "stderr",
          "text": [
            "Evaluating: 100%|██████████| 184/184 [00:00<00:00, 714.83it/s]\n"
          ]
        },
        {
          "output_type": "stream",
          "name": "stdout",
          "text": [
            "Validation Perplexity: 114.58\n"
          ]
        },
        {
          "output_type": "stream",
          "name": "stderr",
          "text": [
            "Evaluating: 100%|██████████| 206/206 [00:00<00:00, 727.77it/s]\n"
          ]
        },
        {
          "output_type": "stream",
          "name": "stdout",
          "text": [
            "Test Perplexity: 111.84\n",
            "Best model saved to checkpoints/gru_with_dropout\n",
            "\n",
            "Epoch 11/20\n",
            "entered training loop\n",
            "Number of batches: 2323\n"
          ]
        },
        {
          "output_type": "stream",
          "name": "stderr",
          "text": [
            "Training: 100%|██████████| 2323/2323 [00:09<00:00, 254.17it/s]\n"
          ]
        },
        {
          "output_type": "stream",
          "name": "stdout",
          "text": [
            "Train Perplexity: 85.25\n"
          ]
        },
        {
          "output_type": "stream",
          "name": "stderr",
          "text": [
            "Evaluating: 100%|██████████| 184/184 [00:00<00:00, 733.16it/s]\n"
          ]
        },
        {
          "output_type": "stream",
          "name": "stdout",
          "text": [
            "Validation Perplexity: 111.75\n"
          ]
        },
        {
          "output_type": "stream",
          "name": "stderr",
          "text": [
            "Evaluating: 100%|██████████| 206/206 [00:00<00:00, 718.18it/s]\n"
          ]
        },
        {
          "output_type": "stream",
          "name": "stdout",
          "text": [
            "Test Perplexity: 108.70\n",
            "Best model saved to checkpoints/gru_with_dropout\n",
            "\n",
            "Epoch 12/20\n",
            "entered training loop\n",
            "Number of batches: 2323\n"
          ]
        },
        {
          "output_type": "stream",
          "name": "stderr",
          "text": [
            "Training: 100%|██████████| 2323/2323 [00:09<00:00, 255.71it/s]\n"
          ]
        },
        {
          "output_type": "stream",
          "name": "stdout",
          "text": [
            "Train Perplexity: 81.74\n"
          ]
        },
        {
          "output_type": "stream",
          "name": "stderr",
          "text": [
            "Evaluating: 100%|██████████| 184/184 [00:00<00:00, 724.87it/s]\n"
          ]
        },
        {
          "output_type": "stream",
          "name": "stdout",
          "text": [
            "Validation Perplexity: 109.55\n"
          ]
        },
        {
          "output_type": "stream",
          "name": "stderr",
          "text": [
            "Evaluating: 100%|██████████| 206/206 [00:00<00:00, 734.87it/s]\n"
          ]
        },
        {
          "output_type": "stream",
          "name": "stdout",
          "text": [
            "Test Perplexity: 106.20\n",
            "Best model saved to checkpoints/gru_with_dropout\n",
            "\n",
            "Epoch 13/20\n",
            "entered training loop\n",
            "Number of batches: 2323\n"
          ]
        },
        {
          "output_type": "stream",
          "name": "stderr",
          "text": [
            "Training: 100%|██████████| 2323/2323 [00:09<00:00, 254.38it/s]\n"
          ]
        },
        {
          "output_type": "stream",
          "name": "stdout",
          "text": [
            "Train Perplexity: 79.13\n"
          ]
        },
        {
          "output_type": "stream",
          "name": "stderr",
          "text": [
            "Evaluating: 100%|██████████| 184/184 [00:00<00:00, 718.73it/s]\n"
          ]
        },
        {
          "output_type": "stream",
          "name": "stdout",
          "text": [
            "Validation Perplexity: 108.15\n"
          ]
        },
        {
          "output_type": "stream",
          "name": "stderr",
          "text": [
            "Evaluating: 100%|██████████| 206/206 [00:00<00:00, 724.63it/s]\n"
          ]
        },
        {
          "output_type": "stream",
          "name": "stdout",
          "text": [
            "Test Perplexity: 105.01\n",
            "Best model saved to checkpoints/gru_with_dropout\n",
            "\n",
            "Epoch 14/20\n",
            "entered training loop\n",
            "Number of batches: 2323\n"
          ]
        },
        {
          "output_type": "stream",
          "name": "stderr",
          "text": [
            "Training: 100%|██████████| 2323/2323 [00:09<00:00, 255.62it/s]\n"
          ]
        },
        {
          "output_type": "stream",
          "name": "stdout",
          "text": [
            "Train Perplexity: 77.33\n"
          ]
        },
        {
          "output_type": "stream",
          "name": "stderr",
          "text": [
            "Evaluating: 100%|██████████| 184/184 [00:00<00:00, 709.39it/s]\n"
          ]
        },
        {
          "output_type": "stream",
          "name": "stdout",
          "text": [
            "Validation Perplexity: 107.01\n"
          ]
        },
        {
          "output_type": "stream",
          "name": "stderr",
          "text": [
            "Evaluating: 100%|██████████| 206/206 [00:00<00:00, 705.80it/s]\n"
          ]
        },
        {
          "output_type": "stream",
          "name": "stdout",
          "text": [
            "Test Perplexity: 103.72\n",
            "Best model saved to checkpoints/gru_with_dropout\n",
            "\n",
            "Epoch 15/20\n",
            "entered training loop\n",
            "Number of batches: 2323\n"
          ]
        },
        {
          "output_type": "stream",
          "name": "stderr",
          "text": [
            "Training: 100%|██████████| 2323/2323 [00:09<00:00, 253.55it/s]\n"
          ]
        },
        {
          "output_type": "stream",
          "name": "stdout",
          "text": [
            "Train Perplexity: 75.96\n"
          ]
        },
        {
          "output_type": "stream",
          "name": "stderr",
          "text": [
            "Evaluating: 100%|██████████| 184/184 [00:00<00:00, 732.33it/s]\n"
          ]
        },
        {
          "output_type": "stream",
          "name": "stdout",
          "text": [
            "Validation Perplexity: 106.08\n"
          ]
        },
        {
          "output_type": "stream",
          "name": "stderr",
          "text": [
            "Evaluating: 100%|██████████| 206/206 [00:00<00:00, 728.71it/s]\n"
          ]
        },
        {
          "output_type": "stream",
          "name": "stdout",
          "text": [
            "Test Perplexity: 102.61\n",
            "Best model saved to checkpoints/gru_with_dropout\n",
            "\n",
            "Epoch 16/20\n",
            "entered training loop\n",
            "Number of batches: 2323\n"
          ]
        },
        {
          "output_type": "stream",
          "name": "stderr",
          "text": [
            "Training: 100%|██████████| 2323/2323 [00:09<00:00, 256.25it/s]\n"
          ]
        },
        {
          "output_type": "stream",
          "name": "stdout",
          "text": [
            "Train Perplexity: 74.92\n"
          ]
        },
        {
          "output_type": "stream",
          "name": "stderr",
          "text": [
            "Evaluating: 100%|██████████| 184/184 [00:00<00:00, 721.64it/s]\n"
          ]
        },
        {
          "output_type": "stream",
          "name": "stdout",
          "text": [
            "Validation Perplexity: 105.33\n"
          ]
        },
        {
          "output_type": "stream",
          "name": "stderr",
          "text": [
            "Evaluating: 100%|██████████| 206/206 [00:00<00:00, 720.34it/s]\n"
          ]
        },
        {
          "output_type": "stream",
          "name": "stdout",
          "text": [
            "Test Perplexity: 101.92\n",
            "Best model saved to checkpoints/gru_with_dropout\n",
            "\n",
            "Epoch 17/20\n",
            "entered training loop\n",
            "Number of batches: 2323\n"
          ]
        },
        {
          "output_type": "stream",
          "name": "stderr",
          "text": [
            "Training: 100%|██████████| 2323/2323 [00:09<00:00, 256.06it/s]\n"
          ]
        },
        {
          "output_type": "stream",
          "name": "stdout",
          "text": [
            "Train Perplexity: 74.20\n"
          ]
        },
        {
          "output_type": "stream",
          "name": "stderr",
          "text": [
            "Evaluating: 100%|██████████| 184/184 [00:00<00:00, 735.26it/s]\n"
          ]
        },
        {
          "output_type": "stream",
          "name": "stdout",
          "text": [
            "Validation Perplexity: 104.97\n"
          ]
        },
        {
          "output_type": "stream",
          "name": "stderr",
          "text": [
            "Evaluating: 100%|██████████| 206/206 [00:00<00:00, 720.83it/s]\n"
          ]
        },
        {
          "output_type": "stream",
          "name": "stdout",
          "text": [
            "Test Perplexity: 101.43\n",
            "Best model saved to checkpoints/gru_with_dropout\n",
            "\n",
            "Epoch 18/20\n",
            "entered training loop\n",
            "Number of batches: 2323\n"
          ]
        },
        {
          "output_type": "stream",
          "name": "stderr",
          "text": [
            "Training: 100%|██████████| 2323/2323 [00:09<00:00, 254.65it/s]\n"
          ]
        },
        {
          "output_type": "stream",
          "name": "stdout",
          "text": [
            "Train Perplexity: 73.65\n"
          ]
        },
        {
          "output_type": "stream",
          "name": "stderr",
          "text": [
            "Evaluating: 100%|██████████| 184/184 [00:00<00:00, 728.24it/s]\n"
          ]
        },
        {
          "output_type": "stream",
          "name": "stdout",
          "text": [
            "Validation Perplexity: 104.73\n"
          ]
        },
        {
          "output_type": "stream",
          "name": "stderr",
          "text": [
            "Evaluating: 100%|██████████| 206/206 [00:00<00:00, 717.57it/s]\n"
          ]
        },
        {
          "output_type": "stream",
          "name": "stdout",
          "text": [
            "Test Perplexity: 101.10\n",
            "Best model saved to checkpoints/gru_with_dropout\n",
            "\n",
            "Epoch 19/20\n",
            "entered training loop\n",
            "Number of batches: 2323\n"
          ]
        },
        {
          "output_type": "stream",
          "name": "stderr",
          "text": [
            "Training: 100%|██████████| 2323/2323 [00:09<00:00, 253.18it/s]\n"
          ]
        },
        {
          "output_type": "stream",
          "name": "stdout",
          "text": [
            "Train Perplexity: 73.22\n"
          ]
        },
        {
          "output_type": "stream",
          "name": "stderr",
          "text": [
            "Evaluating: 100%|██████████| 184/184 [00:00<00:00, 727.11it/s]\n"
          ]
        },
        {
          "output_type": "stream",
          "name": "stdout",
          "text": [
            "Validation Perplexity: 104.46\n"
          ]
        },
        {
          "output_type": "stream",
          "name": "stderr",
          "text": [
            "Evaluating: 100%|██████████| 206/206 [00:00<00:00, 733.98it/s]\n"
          ]
        },
        {
          "output_type": "stream",
          "name": "stdout",
          "text": [
            "Test Perplexity: 100.82\n",
            "Best model saved to checkpoints/gru_with_dropout\n",
            "\n",
            "Epoch 20/20\n",
            "entered training loop\n",
            "Number of batches: 2323\n"
          ]
        },
        {
          "output_type": "stream",
          "name": "stderr",
          "text": [
            "Training: 100%|██████████| 2323/2323 [00:09<00:00, 253.76it/s]\n"
          ]
        },
        {
          "output_type": "stream",
          "name": "stdout",
          "text": [
            "Train Perplexity: 72.83\n"
          ]
        },
        {
          "output_type": "stream",
          "name": "stderr",
          "text": [
            "Evaluating: 100%|██████████| 184/184 [00:00<00:00, 715.52it/s]\n"
          ]
        },
        {
          "output_type": "stream",
          "name": "stdout",
          "text": [
            "Validation Perplexity: 104.29\n"
          ]
        },
        {
          "output_type": "stream",
          "name": "stderr",
          "text": [
            "Evaluating: 100%|██████████| 206/206 [00:00<00:00, 724.03it/s]\n"
          ]
        },
        {
          "output_type": "stream",
          "name": "stdout",
          "text": [
            "Test Perplexity: 100.62\n",
            "Best model saved to checkpoints/gru_with_dropout\n"
          ]
        },
        {
          "output_type": "display_data",
          "data": {
            "text/plain": [
              "<Figure size 1000x600 with 1 Axes>"
            ],
            "image/png": "[encoded data removed]"
          },
          "metadata": {}
        },
        {
          "output_type": "stream",
          "name": "stdout",
          "text": [
            "\n",
            "=== Results Summary ===\n",
            "| Model | Dropout Probability | Train Perplexity | Validation Perplexity | Test Perplexity |\n",
            "|-------|---------------------|------------------|-----------------------|-----------------|\n",
            "| LSTM | 0.0 | 69.39 | 122.04 | 118.74 |\n",
            "| LSTM | 0.5 | 105.38 | 109.08 | 105.22 |\n",
            "| GRU | 0.0 | 51.11 | 121.48 | 117.32 |\n",
            "| GRU | 0.3 | 72.83 | 104.29 | 100.62 |\n"
          ]
        }
      ]
    },
    {
      "cell_type": "code",
      "source": [],
      "metadata": {
        "id": "J_LBfIfZRDGF"
      },
      "execution_count": null,
      "outputs": []
    }
  ]
}